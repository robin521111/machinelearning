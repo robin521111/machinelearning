{
 "cells": [
  {
   "cell_type": "code",
   "execution_count": 1,
   "metadata": {},
   "outputs": [
    {
     "name": "stderr",
     "output_type": "stream",
     "text": [
      "Using TensorFlow backend.\n"
     ]
    }
   ],
   "source": [
    "import params, preprocess\n",
    "import utils\n",
    "import pickle\n",
    "import os"
   ]
  },
  {
   "cell_type": "code",
   "execution_count": 2,
   "metadata": {
    "collapsed": true
   },
   "outputs": [],
   "source": [
    "# load RGB train data\n",
    "imgs_train_RGB, wheels_train_RGB = preprocess.train_data_RGB()\n",
    "\n",
    "# load RGB test data\n",
    "imgs_test_RGB, wheels_test_RGB = preprocess.test_data_RGB()\n",
    "\n",
    "# load YUV train data\n",
    "imgs_train_YUV, wheels_train_YUV = preprocess.train_data_YUV()\n",
    "\n",
    "# load YUV test data\n",
    "imgs_test_YUV, wheels_test_YUV = preprocess.test_data_YUV()"
   ]
  },
  {
   "cell_type": "code",
   "execution_count": 3,
   "metadata": {
    "collapsed": true
   },
   "outputs": [],
   "source": [
    "# set the path to save pickle file\n",
    "data_root = '.'\n",
    "pickle_file1 = os.path.join(data_root, 'data1.pickle')\n",
    "\n",
    "# save the RGB data as pickle file 1\n",
    "try:\n",
    "    f = open(pickle_file1, 'wb')\n",
    "    save1 = {\n",
    "    'imgs_train_RGB': imgs_train_RGB,\n",
    "    'wheels_train_RGB': wheels_train_RGB,\n",
    "    'imgs_test_RGB': imgs_test_RGB,\n",
    "    'wheels_test_RGB': wheels_test_RGB, \n",
    "    }\n",
    "    pickle.dump(save1, f, pickle.HIGHEST_PROTOCOL)\n",
    "    f.close()\n",
    "except Exception as e:\n",
    "    print('Unable to save data to', pickle_file, ':', e)\n",
    "    raise"
   ]
  },
  {
   "cell_type": "code",
   "execution_count": 4,
   "metadata": {},
   "outputs": [],
   "source": [
    "# set the path to save pickle file\n",
    "pickle_file2 = os.path.join(data_root, 'data2.pickle')\n",
    "\n",
    "# save the YUV data as pickle file 2\n",
    "try:\n",
    "    f = open(pickle_file2, 'wb')\n",
    "    save2 = {\n",
    "    'imgs_train_YUV': imgs_train_YUV,\n",
    "    'wheels_train_YUV': wheels_train_YUV, \n",
    "    'imgs_test_YUV': imgs_test_YUV,\n",
    "    'wheels_test_YUV': wheels_test_YUV, \n",
    "    }\n",
    "    pickle.dump(save2, f, pickle.HIGHEST_PROTOCOL)\n",
    "    f.close()\n",
    "except Exception as e:\n",
    "    print('Unable to save data to', pickle_file, ':', e)\n",
    "    raise"
   ]
  },
  {
   "cell_type": "code",
   "execution_count": null,
   "metadata": {
    "collapsed": true
   },
   "outputs": [],
   "source": []
  }
 ],
 "metadata": {
  "kernelspec": {
   "display_name": "Python 3",
   "language": "python",
   "name": "python3"
  },
  "language_info": {
   "codemirror_mode": {
    "name": "ipython",
    "version": 3
   },
   "file_extension": ".py",
   "mimetype": "text/x-python",
   "name": "python",
   "nbconvert_exporter": "python",
   "pygments_lexer": "ipython3",
   "version": "3.5.2"
  }
 },
 "nbformat": 4,
 "nbformat_minor": 2
}

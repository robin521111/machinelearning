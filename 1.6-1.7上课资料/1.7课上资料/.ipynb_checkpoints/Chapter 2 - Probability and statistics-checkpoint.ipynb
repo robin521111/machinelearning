{
 "cells": [
  {
   "cell_type": "markdown",
   "metadata": {},
   "source": [
    "# 概率与统计"
   ]
  },
  {
   "cell_type": "code",
   "execution_count": 14,
   "metadata": {},
   "outputs": [
    {
     "name": "stdout",
     "output_type": "stream",
     "text": [
      "NumPy version: 1.13.1\n",
      "SciPy version: 0.19.1\n",
      "SymPy version: 1.1.1\n",
      "Matplotlib version: 2.0.2\n"
     ]
    }
   ],
   "source": [
    "import numpy as np\n",
    "import scipy\n",
    "import sympy as sym\n",
    "import matplotlib\n",
    "sym.init_printing()\n",
    "\n",
    "print(\"NumPy version:\", np.__version__)\n",
    "print(\"SciPy version:\", scipy.__version__)\n",
    "print(\"SymPy version:\", sym.__version__)\n",
    "print(\"Matplotlib version:\", matplotlib.__version__)"
   ]
  },
  {
   "cell_type": "markdown",
   "metadata": {},
   "source": [
    "## 随机事件\n",
    "在一定条件下，并不总是出现相同结果的现象称为**随机现象**。\n",
    "特点：随机现象的结果至少有两个；\n",
    "至于那一个出现，事先并不知道。\n",
    "- 抛硬币\n",
    "- 掷骰子\n",
    "- 一天内进入某超市的顾客数\n",
    "- 一顾客在超市排队等候付款的时间\n",
    "- 一台电视机从开始使用道发生第一次故障的时间\n",
    "\n",
    "认识一个随机现象首要的罗列出它的一切发生的基本结果。这里的基本结果称为**样本点**，\n",
    "随机现象一切可能样本点的全体称为这个随机现象的**样本空间**，常记为Ω。\n",
    "“抛一枚硬币”的样本空间 Ω＝{正面，反面} ；\n",
    "“掷一颗骰子”的样本空间 Ω＝{1， 2， 3， 4， 5， 6}；\n",
    "“一天内进入某超市的顾客数”的样本空间 Ω＝{n： n ≥０}\n",
    "“一顾客在超市排队等候付款的时间” 的样本空间 Ω＝{t： t≥０}\n",
    "“一台电视机从开始使用道发生第一次故障的时间”的样本空间\n",
    "Ω＝{t： t≥０}\n",
    "\n",
    "**定义**：随机现象的某些样本点组成的集合称为**随机事件**，简称事件，常用大写字母A、 B、 C等\n",
    "表示。\n",
    "[例子]掷一个骰子时，“出现奇数点”是一个事件，它由1点、 3点和5点共三个样本点组成，若\n",
    "记这个事件为A，则有A＝ { 1， 3， 5}。\n",
    "\n",
    "**定义**：一个随机事件A发生可能性的大小称为这个事件的概率，用P(A)表示。\n",
    "概率是一个介于0到1之间的数。概率越大，事件发生的可能性就越大；概率越小，事件发生\n",
    "的可能性也就越小。特别，不可能事件的概率为0，必然事件的概率为1。 P(φ)＝ 0, P(Ω)＝1。"
   ]
  },
  {
   "cell_type": "markdown",
   "metadata": {},
   "source": [
    "## 概率的统计定义\n",
    "- 与事件A有关的随机现象是可以大量重复事件的；\n",
    "\n",
    "- 若在n次重复试验中，事件A发生kn次，则事件A发生的频率为：\n",
    "\n",
    "    - fn(A)= kn/n＝事件A发生的次数/重复试验的次数\n",
    "\n",
    "    - 频率fn(A)能反应事件A发生的可能性大小。\n",
    "\n",
    "- 频率fn(A)将会随着试验次数不断增加而趋于稳定，这个频率的稳定值就是事件A的概率。\n",
    "在实际中人们无法把一个试验无限次重复下去，只能用重复试验次数n较大时的频率去\n",
    "近似概率。"
   ]
  },
  {
   "cell_type": "markdown",
   "metadata": {},
   "source": [
    "| 试验者 | 抛的次数n| 出现正面次数k| 正面出现频率k/n|\n",
    "|---：|----：|----：|----：|\n",
    "| 德·摩根 |2048 |1061 |0.5180|\n",
    "| 蒲丰    | 4040| 2048| 0.5069|\n",
    "| 皮尔逊   |12000| 6019| 0.5016|\n",
    "| 皮儿孙   |24000| 12012| 0.5005|\n",
    "| 微尼     |  30000| 14994| 0.4998|"
   ]
  },
  {
   "cell_type": "markdown",
   "metadata": {},
   "source": [
    "## 随机变量\n",
    "定义：表示随机现象的结果的变量称为**随机变量**。\n",
    "常用大写字母X， Y， Z等表示随机变量，他们的取值用相应的小写字母x， y， z表示。\n",
    "假如一个随机变量仅取数轴上有限个点或可列个点，则称此随机变量为**离散型随机变量**。\n",
    "假如一个随机变量的所有可能取值充满数轴上的一个区间（a， b），则称此变量为**连续型随机变量**。"
   ]
  },
  {
   "cell_type": "markdown",
   "metadata": {},
   "source": [
    "### 例子\n",
    "- 设X是一只铸件上的瑕疵数，则X是一个离散随机变量，它可以取0， 1， 2， ….等值。可用随机变量X的取值来表示事件，如“X＝0”表示事件“铸件上无瑕疵”。\n",
    "\n",
    "- 一台电视机的寿命X是在0到正无穷大区间内取值的连续随机变量，“X＝0”表示事件“一台电视机在开箱时就发生故障”，“X＞40000”表示“电视机寿命超过40000小时”。"
   ]
  },
  {
   "cell_type": "markdown",
   "metadata": {},
   "source": [
    "## 随机变量的分布\n",
    "\n",
    "随机变量的取值是随机的，但内在还是有规律的，这个规律可以用分布来描述。分布包括\n",
    "如下两方面内容：\n",
    "- X可能取哪些值，或在哪个区间内取值。\n",
    "- X取这些值的概率各是多少，或X在任一区间上取值的概率是多少？"
   ]
  },
  {
   "cell_type": "markdown",
   "metadata": {},
   "source": [
    "### 例子"
   ]
  },
  {
   "cell_type": "markdown",
   "metadata": {},
   "source": [
    "掷两颗骰子， 6点出现的次数\n",
    "\n",
    "|X |0 |1 |2 |\n",
    "|P |25/36 |10/36 |1/36|"
   ]
  },
  {
   "cell_type": "markdown",
   "metadata": {},
   "source": [
    "连续性随机变量X的分布可用概率密度函数p(x)表示，也可记作f(x)。\n",
    "下面以产品质量特性x（如机械加工轴的直径）为例来说明p（x）的由来。\n",
    "假定我们一个接一个地测量产品的某个质量特性值X，把测量得到的x值一个接一个地放在\n",
    "数轴上。当累计到很多x值时，就形成一定的图形，为了使这个图形稳定，把纵轴改为单位长\n",
    "度上的频率，由于频率的稳定性，随着被测量质量特性值x的数量愈多，这个图形就愈稳定，\n",
    "其外形显现出一条光滑曲线。这条曲线就是概率密度曲线，相应的函数表达式f（x）称为概率\n",
    "密度函数，它就是一种表示质量特性X随机取值内在统计规律性的函数"
   ]
  },
  {
   "cell_type": "markdown",
   "metadata": {},
   "source": [
    "## 均值、方差与标准差"
   ]
  },
  {
   "cell_type": "markdown",
   "metadata": {},
   "source": [
    "随机变量的分布有几个重要的特征数，用来表示分布的集中位置（中心位置）分散度大小。"
   ]
  },
  {
   "cell_type": "markdown",
   "metadata": {},
   "source": [
    "### 均值\n",
    "用来表示分布的中心位置，用$\\mu(X)$表示。对于绝大多数的随机变量，在均值附近出现的\n",
    "机会较多。计算公式为："
   ]
  },
  {
   "cell_type": "markdown",
   "metadata": {},
   "source": [
    "$$\n",
    "E(X)=\\sum_i x_i \\cdot p_i \\\\\n",
    "E(X)=\\int_a^b x \\cdot p(x) dx\n",
    "$$"
   ]
  },
  {
   "cell_type": "markdown",
   "metadata": {},
   "source": [
    "### 方差与标准差\n",
    "方差用来表示分布的散步大小，用$\\sigma^2$表示,方差小意味着分布较集中。方差的计算公式为："
   ]
  },
  {
   "cell_type": "markdown",
   "metadata": {},
   "source": [
    "$$\n",
    "\\sigma^2(X)=\\sum_i (x_i - E(X))^2 p_i \\\\\n",
    "\\sigma^2(X)=\\int_a^b (x - E(X))^2 \\cdot p(x) dx\n",
    "$$"
   ]
  },
  {
   "cell_type": "markdown",
   "metadata": {},
   "source": [
    "## 正态分布"
   ]
  },
  {
   "cell_type": "markdown",
   "metadata": {},
   "source": [
    "$$\n",
    "p(x)=\\frac{1}{\\sqrt{2\\pi}\\sigma} e^{-\\frac{(x-\\mu)^2}{2\\sigma^2}}\n",
    "$$"
   ]
  },
  {
   "cell_type": "code",
   "execution_count": 25,
   "metadata": {
    "collapsed": true
   },
   "outputs": [],
   "source": [
    "import sympy.stats as stats\n",
    "coin = stats.Die('coin',2)\n",
    "P=stats.P\n",
    "E=stats.E"
   ]
  },
  {
   "cell_type": "code",
   "execution_count": 4,
   "metadata": {},
   "outputs": [
    {
     "data": {
      "image/png": "[encoded data removed]",
      "text/latex": [
       "$$\\left \\{ 1 : \\frac{1}{2}, \\quad 2 : \\frac{1}{2}\\right \\}$$"
      ],
      "text/plain": [
       "{1: 1/2, 2: 1/2}"
      ]
     },
     "execution_count": 4,
     "metadata": {},
     "output_type": "execute_result"
    }
   ],
   "source": [
    "stats.density(coin).dict"
   ]
  },
  {
   "cell_type": "code",
   "execution_count": 1,
   "metadata": {},
   "outputs": [
    {
     "data": {
      "text/html": [
       "<script>\n",
       "    require.config({\n",
       "         paths:{\n",
       "           'echarts': '/nbextensions/echarts/echarts.min'\n",
       "         }\n",
       "    });\n",
       "</script>\n",
       "<div id=\"acbd8993f3f04b2a8dbec1404a3dcf97\" style=\"width:800px; height:400px;\"></div>\n",
       "\n",
       "<script>\n",
       "    require([ 'echarts' ],function(ec){\n",
       "\tvar myChart = ec.init(document.getElementById('acbd8993f3f04b2a8dbec1404a3dcf97'));\n",
       "var option =  {\n",
       "    \"color\": [\n",
       "        \"#c23531\",\n",
       "        \"#2f4554\",\n",
       "        \"#61a0a8\",\n",
       "        \"#d48265\",\n",
       "        \"#749f83\",\n",
       "        \"#ca8622\",\n",
       "        \"#bda29a\",\n",
       "        \"#6e7074\",\n",
       "        \"#546570\",\n",
       "        \"#c4ccd3\",\n",
       "        \"#f05b72\",\n",
       "        \"#ef5b9c\",\n",
       "        \"#f47920\",\n",
       "        \"#905a3d\",\n",
       "        \"#fab27b\",\n",
       "        \"#2a5caa\",\n",
       "        \"#444693\",\n",
       "        \"#726930\",\n",
       "        \"#b2d235\",\n",
       "        \"#6d8346\",\n",
       "        \"#ac6767\",\n",
       "        \"#1d953f\",\n",
       "        \"#6950a1\",\n",
       "        \"#918597\",\n",
       "        \"#f6f5ec\"\n",
       "    ],\n",
       "    \"backgroundColor\": \"#fff\",\n",
       "    \"yAxis\": [\n",
       "        {\n",
       "            \"max\": null,\n",
       "            \"nameTextStyle\": {\n",
       "                \"fontSize\": 14\n",
       "            },\n",
       "            \"axisTick\": {\n",
       "                \"alignWithLabel\": false\n",
       "            },\n",
       "            \"position\": null,\n",
       "            \"inverse\": false,\n",
       "            \"axisLabel\": {\n",
       "                \"interval\": \"auto\",\n",
       "                \"formatter\": \"{value} \",\n",
       "                \"rotate\": 0,\n",
       "                \"margin\": 8\n",
       "            },\n",
       "            \"boundaryGap\": true,\n",
       "            \"name\": \"\",\n",
       "            \"nameGap\": 25,\n",
       "            \"min\": null,\n",
       "            \"show\": true,\n",
       "            \"nameLocation\": \"middle\",\n",
       "            \"type\": \"value\"\n",
       "        }\n",
       "    ],\n",
       "    \"legend\": [\n",
       "        {\n",
       "            \"selectedMode\": \"multiple\",\n",
       "            \"data\": [\n",
       "                \"\\u70b9\\u6570\"\n",
       "            ],\n",
       "            \"textStyle\": {\n",
       "                \"color\": \"#333\",\n",
       "                \"fontSize\": 12\n",
       "            },\n",
       "            \"orient\": \"horizontal\",\n",
       "            \"top\": \"top\",\n",
       "            \"left\": \"center\",\n",
       "            \"show\": true\n",
       "        }\n",
       "    ],\n",
       "    \"title\": [\n",
       "        {\n",
       "            \"subtext\": \"\\u786c\\u5e01\",\n",
       "            \"subtextStyle\": {\n",
       "                \"color\": \"#aaa\",\n",
       "                \"fontSize\": 12\n",
       "            },\n",
       "            \"textStyle\": {\n",
       "                \"color\": \"#000\",\n",
       "                \"fontSize\": 18\n",
       "            },\n",
       "            \"text\": \"\\u7edf\\u8ba1\\u56fe\",\n",
       "            \"top\": \"auto\",\n",
       "            \"left\": \"auto\"\n",
       "        }\n",
       "    ],\n",
       "    \"series_id\": 3609617,\n",
       "    \"toolbox\": {\n",
       "        \"orient\": \"vertical\",\n",
       "        \"feature\": {\n",
       "            \"saveAsImage\": {\n",
       "                \"show\": true,\n",
       "                \"title\": \"\\u4e0b\\u8f7d\\u56fe\\u7247\"\n",
       "            },\n",
       "            \"restore\": {\n",
       "                \"show\": true\n",
       "            },\n",
       "            \"dataView\": {\n",
       "                \"show\": true\n",
       "            }\n",
       "        },\n",
       "        \"show\": true,\n",
       "        \"left\": \"95%\",\n",
       "        \"top\": \"center\"\n",
       "    },\n",
       "    \"tooltip\": {\n",
       "        \"axisPointer\": {\n",
       "            \"type\": \"line\"\n",
       "        },\n",
       "        \"formatter\": null,\n",
       "        \"textStyle\": {\n",
       "            \"color\": \"#fff\",\n",
       "            \"fontSize\": 14\n",
       "        },\n",
       "        \"triggerOn\": \"mousemove|click\",\n",
       "        \"trigger\": \"item\"\n",
       "    },\n",
       "    \"series\": [\n",
       "        {\n",
       "            \"name\": \"\\u70b9\\u6570\",\n",
       "            \"stack\": \"\",\n",
       "            \"type\": \"bar\",\n",
       "            \"data\": [\n",
       "                5014,\n",
       "                4986\n",
       "            ],\n",
       "            \"markPoint\": {\n",
       "                \"data\": []\n",
       "            },\n",
       "            \"markLine\": {\n",
       "                \"data\": []\n",
       "            },\n",
       "            \"label\": {\n",
       "                \"emphasis\": {\n",
       "                    \"textStyle\": {\n",
       "                        \"color\": \"#fff\",\n",
       "                        \"fontSize\": 12\n",
       "                    },\n",
       "                    \"show\": true,\n",
       "                    \"position\": null\n",
       "                },\n",
       "                \"normal\": {\n",
       "                    \"textStyle\": {\n",
       "                        \"color\": \"#000\",\n",
       "                        \"fontSize\": 12\n",
       "                    },\n",
       "                    \"formatter\": null,\n",
       "                    \"show\": false,\n",
       "                    \"position\": \"top\"\n",
       "                }\n",
       "            },\n",
       "            \"seriesId\": 3609617,\n",
       "            \"barCategoryGap\": \"20%\"\n",
       "        }\n",
       "    ],\n",
       "    \"xAxis\": [\n",
       "        {\n",
       "            \"max\": null,\n",
       "            \"nameTextStyle\": {\n",
       "                \"fontSize\": 14\n",
       "            },\n",
       "            \"axisTick\": {\n",
       "                \"alignWithLabel\": false\n",
       "            },\n",
       "            \"position\": null,\n",
       "            \"inverse\": false,\n",
       "            \"axisLabel\": {\n",
       "                \"interval\": \"auto\",\n",
       "                \"rotate\": 0,\n",
       "                \"margin\": 8\n",
       "            },\n",
       "            \"boundaryGap\": true,\n",
       "            \"name\": \"\",\n",
       "            \"nameGap\": 25,\n",
       "            \"data\": [\n",
       "                \"1\",\n",
       "                \"2\"\n",
       "            ],\n",
       "            \"min\": null,\n",
       "            \"show\": true,\n",
       "            \"nameLocation\": \"middle\",\n",
       "            \"type\": \"category\"\n",
       "        }\n",
       "    ]\n",
       "};\n",
       "myChart.setOption(option);\n",
       "\n",
       "    });\n",
       "</script>\n"
      ],
      "text/plain": [
       "<pyecharts.charts.bar.Bar at 0x17163c7c160>"
      ]
     },
     "execution_count": 1,
     "metadata": {},
     "output_type": "execute_result"
    }
   ],
   "source": [
    "import numpy as np\n",
    "import matplotlib.pyplot as plt\n",
    "from pyecharts import Bar\n",
    "def mydice(number):\n",
    "    rd = np.random.random(number)*2+1\n",
    "    return rd.astype(int)\n",
    "\n",
    "#np.random.seed(19680801)\n",
    "x=mydice(10000)\n",
    "tag=[]\n",
    "sta=[]\n",
    "for itr in range(len(set(x))):\n",
    "    tag.append(\"%d\"%(itr+1))\n",
    "    sta.append(len(x[x==(itr+1)]))\n",
    "bar = Bar(\"统计图\", \"硬币\")\n",
    "bar.add(\"点数\", tag, sta)\n",
    "#bar.show_config()\n",
    "bar.render(\"echarts/coindicechart.html\")\n",
    "bar"
   ]
  },
  {
   "cell_type": "code",
   "execution_count": 5,
   "metadata": {},
   "outputs": [
    {
     "data": {
      "image/png": "[encoded data removed]",
      "text/latex": [
       "$$\\frac{3}{2}$$"
      ],
      "text/plain": [
       "3/2"
      ]
     },
     "execution_count": 5,
     "metadata": {},
     "output_type": "execute_result"
    }
   ],
   "source": [
    "E(coin)"
   ]
  },
  {
   "cell_type": "code",
   "execution_count": 6,
   "metadata": {
    "collapsed": true
   },
   "outputs": [],
   "source": [
    "dice1, dice2 = stats.Die('dice1',6),stats.Die('dice2',6)"
   ]
  },
  {
   "cell_type": "code",
   "execution_count": 66,
   "metadata": {},
   "outputs": [
    {
     "data": {
      "text/html": [
       "<script>\n",
       "    require.config({\n",
       "         paths:{\n",
       "           'echarts': '/nbextensions/echarts/echarts.min'\n",
       "         }\n",
       "    });\n",
       "</script>\n",
       "<div id=\"abf1259505504b37bde3dcae18ccde81\" style=\"width:800px; height:400px;\"></div>\n",
       "\n",
       "<script>\n",
       "    require([ 'echarts' ],function(ec){\n",
       "\tvar myChart = ec.init(document.getElementById('abf1259505504b37bde3dcae18ccde81'));\n",
       "var option =  {\n",
       "    \"title\": [\n",
       "        {\n",
       "            \"text\": \"\\u7edf\\u8ba1\\u56fe\",\n",
       "            \"subtext\": \"\\u9ab0\\u5b50\",\n",
       "            \"left\": \"auto\",\n",
       "            \"top\": \"auto\",\n",
       "            \"textStyle\": {\n",
       "                \"color\": \"#000\",\n",
       "                \"fontSize\": 18\n",
       "            },\n",
       "            \"subtextStyle\": {\n",
       "                \"color\": \"#aaa\",\n",
       "                \"fontSize\": 12\n",
       "            }\n",
       "        }\n",
       "    ],\n",
       "    \"toolbox\": {\n",
       "        \"show\": true,\n",
       "        \"orient\": \"vertical\",\n",
       "        \"left\": \"95%\",\n",
       "        \"top\": \"center\",\n",
       "        \"feature\": {\n",
       "            \"saveAsImage\": {\n",
       "                \"show\": true,\n",
       "                \"title\": \"\\u4e0b\\u8f7d\\u56fe\\u7247\"\n",
       "            },\n",
       "            \"restore\": {\n",
       "                \"show\": true\n",
       "            },\n",
       "            \"dataView\": {\n",
       "                \"show\": true\n",
       "            }\n",
       "        }\n",
       "    },\n",
       "    \"series_id\": 3852645,\n",
       "    \"tooltip\": {\n",
       "        \"trigger\": \"item\",\n",
       "        \"triggerOn\": \"mousemove|click\",\n",
       "        \"axisPointer\": {\n",
       "            \"type\": \"line\"\n",
       "        },\n",
       "        \"formatter\": null,\n",
       "        \"textStyle\": {\n",
       "            \"color\": \"#fff\",\n",
       "            \"fontSize\": 14\n",
       "        }\n",
       "    },\n",
       "    \"series\": [\n",
       "        {\n",
       "            \"type\": \"bar\",\n",
       "            \"name\": \"\\u70b9\\u6570\",\n",
       "            \"data\": [\n",
       "                182,\n",
       "                172,\n",
       "                158,\n",
       "                143,\n",
       "                181,\n",
       "                164\n",
       "            ],\n",
       "            \"stack\": \"\",\n",
       "            \"barCategoryGap\": \"20%\",\n",
       "            \"label\": {\n",
       "                \"normal\": {\n",
       "                    \"show\": false,\n",
       "                    \"position\": \"top\",\n",
       "                    \"textStyle\": {\n",
       "                        \"color\": \"#000\",\n",
       "                        \"fontSize\": 12\n",
       "                    },\n",
       "                    \"formatter\": null\n",
       "                },\n",
       "                \"emphasis\": {\n",
       "                    \"show\": true,\n",
       "                    \"position\": null,\n",
       "                    \"textStyle\": {\n",
       "                        \"color\": \"#fff\",\n",
       "                        \"fontSize\": 12\n",
       "                    }\n",
       "                }\n",
       "            },\n",
       "            \"markPoint\": {\n",
       "                \"data\": []\n",
       "            },\n",
       "            \"markLine\": {\n",
       "                \"data\": []\n",
       "            },\n",
       "            \"seriesId\": 3852645\n",
       "        }\n",
       "    ],\n",
       "    \"legend\": [\n",
       "        {\n",
       "            \"data\": [\n",
       "                \"\\u70b9\\u6570\"\n",
       "            ],\n",
       "            \"selectedMode\": \"multiple\",\n",
       "            \"show\": true,\n",
       "            \"left\": \"center\",\n",
       "            \"top\": \"top\",\n",
       "            \"orient\": \"horizontal\",\n",
       "            \"textStyle\": {\n",
       "                \"fontSize\": 12,\n",
       "                \"color\": \"#333\"\n",
       "            }\n",
       "        }\n",
       "    ],\n",
       "    \"backgroundColor\": \"#fff\",\n",
       "    \"xAxis\": [\n",
       "        {\n",
       "            \"name\": \"\",\n",
       "            \"show\": true,\n",
       "            \"nameLocation\": \"middle\",\n",
       "            \"nameGap\": 25,\n",
       "            \"nameTextStyle\": {\n",
       "                \"fontSize\": 14\n",
       "            },\n",
       "            \"axisLabel\": {\n",
       "                \"interval\": \"auto\",\n",
       "                \"rotate\": 0,\n",
       "                \"margin\": 8\n",
       "            },\n",
       "            \"axisTick\": {\n",
       "                \"alignWithLabel\": false\n",
       "            },\n",
       "            \"inverse\": false,\n",
       "            \"position\": null,\n",
       "            \"boundaryGap\": true,\n",
       "            \"min\": null,\n",
       "            \"max\": null,\n",
       "            \"data\": [\n",
       "                \"1\",\n",
       "                \"2\",\n",
       "                \"3\",\n",
       "                \"4\",\n",
       "                \"5\",\n",
       "                \"6\"\n",
       "            ],\n",
       "            \"type\": \"category\"\n",
       "        }\n",
       "    ],\n",
       "    \"yAxis\": [\n",
       "        {\n",
       "            \"name\": \"\",\n",
       "            \"show\": true,\n",
       "            \"nameLocation\": \"middle\",\n",
       "            \"nameGap\": 25,\n",
       "            \"nameTextStyle\": {\n",
       "                \"fontSize\": 14\n",
       "            },\n",
       "            \"axisLabel\": {\n",
       "                \"formatter\": \"{value} \",\n",
       "                \"rotate\": 0,\n",
       "                \"interval\": \"auto\",\n",
       "                \"margin\": 8\n",
       "            },\n",
       "            \"axisTick\": {\n",
       "                \"alignWithLabel\": false\n",
       "            },\n",
       "            \"inverse\": false,\n",
       "            \"position\": null,\n",
       "            \"boundaryGap\": true,\n",
       "            \"min\": null,\n",
       "            \"max\": null,\n",
       "            \"type\": \"value\"\n",
       "        }\n",
       "    ],\n",
       "    \"color\": [\n",
       "        \"#c23531\",\n",
       "        \"#2f4554\",\n",
       "        \"#61a0a8\",\n",
       "        \"#d48265\",\n",
       "        \"#749f83\",\n",
       "        \"#ca8622\",\n",
       "        \"#bda29a\",\n",
       "        \"#6e7074\",\n",
       "        \"#546570\",\n",
       "        \"#c4ccd3\",\n",
       "        \"#f05b72\",\n",
       "        \"#ef5b9c\",\n",
       "        \"#f47920\",\n",
       "        \"#905a3d\",\n",
       "        \"#fab27b\",\n",
       "        \"#2a5caa\",\n",
       "        \"#444693\",\n",
       "        \"#726930\",\n",
       "        \"#b2d235\",\n",
       "        \"#6d8346\",\n",
       "        \"#ac6767\",\n",
       "        \"#1d953f\",\n",
       "        \"#6950a1\",\n",
       "        \"#918597\",\n",
       "        \"#f6f5ec\"\n",
       "    ]\n",
       "};\n",
       "myChart.setOption(option);\n",
       "\n",
       "    });\n",
       "</script>\n"
      ],
      "text/plain": [
       "<pyecharts.charts.bar.Bar at 0x24de227f9e8>"
      ]
     },
     "execution_count": 66,
     "metadata": {},
     "output_type": "execute_result"
    }
   ],
   "source": [
    "import numpy as np\n",
    "import matplotlib.pyplot as plt\n",
    "from pyecharts import Bar\n",
    "def mydice(number):\n",
    "    rd = np.random.random(number)*6+1\n",
    "    return rd.astype(int)\n",
    "\n",
    "#np.random.seed(19680801)\n",
    "x=mydice(1000)\n",
    "tag=[]\n",
    "sta=[]\n",
    "for itr in range(len(set(x))):\n",
    "    tag.append(\"%d\"%(itr+1))\n",
    "    sta.append(len(x[x==(itr+1)]))\n",
    "bar = Bar(\"统计图\", \"骰子\")\n",
    "bar.add(\"点数\", tag, sta)\n",
    "#bar.show_config()\n",
    "bar.render(\"echarts/stadicechart.html\")\n",
    "bar"
   ]
  },
  {
   "cell_type": "code",
   "execution_count": 7,
   "metadata": {},
   "outputs": [
    {
     "data": {
      "image/png": "[encoded data removed]",
      "text/latex": [
       "$$\\left \\{ 1 : \\frac{1}{6}, \\quad 2 : \\frac{1}{6}, \\quad 3 : \\frac{1}{6}, \\quad 4 : \\frac{1}{6}, \\quad 5 : \\frac{1}{6}, \\quad 6 : \\frac{1}{6}\\right \\}$$"
      ],
      "text/plain": [
       "{1: 1/6, 2: 1/6, 3: 1/6, 4: 1/6, 5: 1/6, 6: 1/6}"
      ]
     },
     "execution_count": 7,
     "metadata": {},
     "output_type": "execute_result"
    }
   ],
   "source": [
    "stats.density(dice1).dict"
   ]
  },
  {
   "cell_type": "code",
   "execution_count": 70,
   "metadata": {},
   "outputs": [
    {
     "data": {
      "text/html": [
       "<script>\n",
       "    require.config({\n",
       "         paths:{\n",
       "           'echarts': '/nbextensions/echarts/echarts.min'\n",
       "         }\n",
       "    });\n",
       "</script>\n",
       "<div id=\"1bd90df8adf6424185e6ef2ece4c524a\" style=\"width:800px; height:400px;\"></div>\n",
       "\n",
       "<script>\n",
       "    require([ 'echarts' ],function(ec){\n",
       "\tvar myChart = ec.init(document.getElementById('1bd90df8adf6424185e6ef2ece4c524a'));\n",
       "var option =  {\n",
       "    \"title\": [\n",
       "        {\n",
       "            \"text\": \"\\u7edf\\u8ba1\\u56fe\",\n",
       "            \"subtext\": \"\\u9ab0\\u5b50\",\n",
       "            \"left\": \"auto\",\n",
       "            \"top\": \"auto\",\n",
       "            \"textStyle\": {\n",
       "                \"color\": \"#000\",\n",
       "                \"fontSize\": 18\n",
       "            },\n",
       "            \"subtextStyle\": {\n",
       "                \"color\": \"#aaa\",\n",
       "                \"fontSize\": 12\n",
       "            }\n",
       "        }\n",
       "    ],\n",
       "    \"toolbox\": {\n",
       "        \"show\": true,\n",
       "        \"orient\": \"vertical\",\n",
       "        \"left\": \"95%\",\n",
       "        \"top\": \"center\",\n",
       "        \"feature\": {\n",
       "            \"saveAsImage\": {\n",
       "                \"show\": true,\n",
       "                \"title\": \"\\u4e0b\\u8f7d\\u56fe\\u7247\"\n",
       "            },\n",
       "            \"restore\": {\n",
       "                \"show\": true\n",
       "            },\n",
       "            \"dataView\": {\n",
       "                \"show\": true\n",
       "            }\n",
       "        }\n",
       "    },\n",
       "    \"series_id\": 6809343,\n",
       "    \"tooltip\": {\n",
       "        \"trigger\": \"item\",\n",
       "        \"triggerOn\": \"mousemove|click\",\n",
       "        \"axisPointer\": {\n",
       "            \"type\": \"line\"\n",
       "        },\n",
       "        \"formatter\": null,\n",
       "        \"textStyle\": {\n",
       "            \"color\": \"#fff\",\n",
       "            \"fontSize\": 14\n",
       "        }\n",
       "    },\n",
       "    \"series\": [\n",
       "        {\n",
       "            \"type\": \"bar\",\n",
       "            \"name\": \"\\u70b9\\u6570\",\n",
       "            \"data\": [\n",
       "                0.0,\n",
       "                0.03,\n",
       "                0.057,\n",
       "                0.087,\n",
       "                0.109,\n",
       "                0.128,\n",
       "                0.16,\n",
       "                0.152,\n",
       "                0.106,\n",
       "                0.088,\n",
       "                0.059\n",
       "            ],\n",
       "            \"stack\": \"\",\n",
       "            \"barCategoryGap\": \"20%\",\n",
       "            \"label\": {\n",
       "                \"normal\": {\n",
       "                    \"show\": false,\n",
       "                    \"position\": \"top\",\n",
       "                    \"textStyle\": {\n",
       "                        \"color\": \"#000\",\n",
       "                        \"fontSize\": 12\n",
       "                    },\n",
       "                    \"formatter\": null\n",
       "                },\n",
       "                \"emphasis\": {\n",
       "                    \"show\": true,\n",
       "                    \"position\": null,\n",
       "                    \"textStyle\": {\n",
       "                        \"color\": \"#fff\",\n",
       "                        \"fontSize\": 12\n",
       "                    }\n",
       "                }\n",
       "            },\n",
       "            \"markPoint\": {\n",
       "                \"data\": []\n",
       "            },\n",
       "            \"markLine\": {\n",
       "                \"data\": []\n",
       "            },\n",
       "            \"seriesId\": 6809343\n",
       "        }\n",
       "    ],\n",
       "    \"legend\": [\n",
       "        {\n",
       "            \"data\": [\n",
       "                \"\\u70b9\\u6570\"\n",
       "            ],\n",
       "            \"selectedMode\": \"multiple\",\n",
       "            \"show\": true,\n",
       "            \"left\": \"center\",\n",
       "            \"top\": \"top\",\n",
       "            \"orient\": \"horizontal\",\n",
       "            \"textStyle\": {\n",
       "                \"fontSize\": 12,\n",
       "                \"color\": \"#333\"\n",
       "            }\n",
       "        }\n",
       "    ],\n",
       "    \"backgroundColor\": \"#fff\",\n",
       "    \"xAxis\": [\n",
       "        {\n",
       "            \"name\": \"\",\n",
       "            \"show\": true,\n",
       "            \"nameLocation\": \"middle\",\n",
       "            \"nameGap\": 25,\n",
       "            \"nameTextStyle\": {\n",
       "                \"fontSize\": 14\n",
       "            },\n",
       "            \"axisLabel\": {\n",
       "                \"interval\": \"auto\",\n",
       "                \"rotate\": 0,\n",
       "                \"margin\": 8\n",
       "            },\n",
       "            \"axisTick\": {\n",
       "                \"alignWithLabel\": false\n",
       "            },\n",
       "            \"inverse\": false,\n",
       "            \"position\": null,\n",
       "            \"boundaryGap\": true,\n",
       "            \"min\": null,\n",
       "            \"max\": null,\n",
       "            \"data\": [\n",
       "                \"1\",\n",
       "                \"2\",\n",
       "                \"3\",\n",
       "                \"4\",\n",
       "                \"5\",\n",
       "                \"6\",\n",
       "                \"7\",\n",
       "                \"8\",\n",
       "                \"9\",\n",
       "                \"10\",\n",
       "                \"11\"\n",
       "            ],\n",
       "            \"type\": \"category\"\n",
       "        }\n",
       "    ],\n",
       "    \"yAxis\": [\n",
       "        {\n",
       "            \"name\": \"\",\n",
       "            \"show\": true,\n",
       "            \"nameLocation\": \"middle\",\n",
       "            \"nameGap\": 25,\n",
       "            \"nameTextStyle\": {\n",
       "                \"fontSize\": 14\n",
       "            },\n",
       "            \"axisLabel\": {\n",
       "                \"formatter\": \"{value} \",\n",
       "                \"rotate\": 0,\n",
       "                \"interval\": \"auto\",\n",
       "                \"margin\": 8\n",
       "            },\n",
       "            \"axisTick\": {\n",
       "                \"alignWithLabel\": false\n",
       "            },\n",
       "            \"inverse\": false,\n",
       "            \"position\": null,\n",
       "            \"boundaryGap\": true,\n",
       "            \"min\": null,\n",
       "            \"max\": null,\n",
       "            \"type\": \"value\"\n",
       "        }\n",
       "    ],\n",
       "    \"color\": [\n",
       "        \"#c23531\",\n",
       "        \"#2f4554\",\n",
       "        \"#61a0a8\",\n",
       "        \"#d48265\",\n",
       "        \"#749f83\",\n",
       "        \"#ca8622\",\n",
       "        \"#bda29a\",\n",
       "        \"#6e7074\",\n",
       "        \"#546570\",\n",
       "        \"#c4ccd3\",\n",
       "        \"#f05b72\",\n",
       "        \"#ef5b9c\",\n",
       "        \"#f47920\",\n",
       "        \"#905a3d\",\n",
       "        \"#fab27b\",\n",
       "        \"#2a5caa\",\n",
       "        \"#444693\",\n",
       "        \"#726930\",\n",
       "        \"#b2d235\",\n",
       "        \"#6d8346\",\n",
       "        \"#ac6767\",\n",
       "        \"#1d953f\",\n",
       "        \"#6950a1\",\n",
       "        \"#918597\",\n",
       "        \"#f6f5ec\"\n",
       "    ]\n",
       "};\n",
       "myChart.setOption(option);\n",
       "\n",
       "    });\n",
       "</script>\n"
      ],
      "text/plain": [
       "<pyecharts.charts.bar.Bar at 0x24de22a9860>"
      ]
     },
     "execution_count": 70,
     "metadata": {},
     "output_type": "execute_result"
    }
   ],
   "source": [
    "import numpy as np\n",
    "import matplotlib.pyplot as plt\n",
    "from pyecharts import Bar\n",
    "def mydice(number):\n",
    "    rd = np.random.random(number)*6+1\n",
    "    return rd.astype(int)\n",
    "\n",
    "#np.random.seed(19680801)\n",
    "x1=mydice(1000)\n",
    "x2=mydice(1000)\n",
    "x=x1+x2\n",
    "tag=[]\n",
    "sta=[]\n",
    "lx=len(x)\n",
    "for itr in range(len(set(x))):\n",
    "    tag.append(\"%d\"%(itr+1))\n",
    "    sta.append(len(x[x==(itr+1)])/lx)\n",
    "bar = Bar(\"统计图\", \"骰子\")\n",
    "bar.add(\"点数\", tag, sta)\n",
    "#bar.show_config()\n",
    "bar.render(\"echarts/stadice2chart.html\")\n",
    "bar"
   ]
  },
  {
   "cell_type": "code",
   "execution_count": 8,
   "metadata": {},
   "outputs": [
    {
     "data": {
      "image/png": "[encoded data removed]",
      "text/latex": [
       "$$\\left \\{ 2 : \\frac{1}{36}, \\quad 3 : \\frac{1}{18}, \\quad 4 : \\frac{1}{12}, \\quad 5 : \\frac{1}{9}, \\quad 6 : \\frac{5}{36}, \\quad 7 : \\frac{1}{6}, \\quad 8 : \\frac{5}{36}, \\quad 9 : \\frac{1}{9}, \\quad 10 : \\frac{1}{12}, \\quad 11 : \\frac{1}{18}, \\quad 12 : \\frac{1}{36}\\right \\}$$"
      ],
      "text/plain": [
       "{2: 1/36, 3: 1/18, 4: 1/12, 5: 1/9, 6: 5/36, 7: 1/6, 8: 5/36, 9: 1/9, 10: 1/12\n",
       ", 11: 1/18, 12: 1/36}"
      ]
     },
     "execution_count": 8,
     "metadata": {},
     "output_type": "execute_result"
    }
   ],
   "source": [
    "stats.density(dice1+dice2).dict"
   ]
  },
  {
   "cell_type": "code",
   "execution_count": 9,
   "metadata": {},
   "outputs": [
    {
     "data": {
      "image/png": "[encoded data removed]",
      "text/latex": [
       "$$\\left \\{ 1 : \\frac{1}{36}, \\quad 2 : \\frac{1}{18}, \\quad 3 : \\frac{1}{18}, \\quad 4 : \\frac{1}{12}, \\quad 5 : \\frac{1}{18}, \\quad 6 : \\frac{1}{9}, \\quad 8 : \\frac{1}{18}, \\quad 9 : \\frac{1}{36}, \\quad 10 : \\frac{1}{18}, \\quad 12 : \\frac{1}{9}, \\quad 15 : \\frac{1}{18}, \\quad 16 : \\frac{1}{36}, \\quad 18 : \\frac{1}{18}, \\quad 20 : \\frac{1}{18}, \\quad 24 : \\frac{1}{18}, \\quad 25 : \\frac{1}{36}, \\quad 30 : \\frac{1}{18}, \\quad 36 : \\frac{1}{36}\\right \\}$$"
      ],
      "text/plain": [
       "{1: 1/36, 2: 1/18, 3: 1/18, 4: 1/12, 5: 1/18, 6: 1/9, 8: 1/18, 9: 1/36, 10: 1/\n",
       "18, 12: 1/9, 15: 1/18, 16: 1/36, 18: 1/18, 20: 1/18, 24: 1/18, 25: 1/36, 30: 1\n",
       "/18, 36: 1/36}"
      ]
     },
     "execution_count": 9,
     "metadata": {},
     "output_type": "execute_result"
    }
   ],
   "source": [
    "stats.density(dice1*dice2).dict"
   ]
  },
  {
   "cell_type": "code",
   "execution_count": 71,
   "metadata": {},
   "outputs": [
    {
     "data": {
      "text/html": [
       "<script>\n",
       "    require.config({\n",
       "         paths:{\n",
       "           'echarts': '/nbextensions/echarts/echarts.min'\n",
       "         }\n",
       "    });\n",
       "</script>\n",
       "<div id=\"442f6113514642e8bdde743682ff101a\" style=\"width:800px; height:400px;\"></div>\n",
       "\n",
       "<script>\n",
       "    require([ 'echarts' ],function(ec){\n",
       "\tvar myChart = ec.init(document.getElementById('442f6113514642e8bdde743682ff101a'));\n",
       "var option =  {\n",
       "    \"title\": [\n",
       "        {\n",
       "            \"text\": \"\\u7edf\\u8ba1\\u56fe\",\n",
       "            \"subtext\": \"\\u9ab0\\u5b50\",\n",
       "            \"left\": \"auto\",\n",
       "            \"top\": \"auto\",\n",
       "            \"textStyle\": {\n",
       "                \"color\": \"#000\",\n",
       "                \"fontSize\": 18\n",
       "            },\n",
       "            \"subtextStyle\": {\n",
       "                \"color\": \"#aaa\",\n",
       "                \"fontSize\": 12\n",
       "            }\n",
       "        }\n",
       "    ],\n",
       "    \"toolbox\": {\n",
       "        \"show\": true,\n",
       "        \"orient\": \"vertical\",\n",
       "        \"left\": \"95%\",\n",
       "        \"top\": \"center\",\n",
       "        \"feature\": {\n",
       "            \"saveAsImage\": {\n",
       "                \"show\": true,\n",
       "                \"title\": \"\\u4e0b\\u8f7d\\u56fe\\u7247\"\n",
       "            },\n",
       "            \"restore\": {\n",
       "                \"show\": true\n",
       "            },\n",
       "            \"dataView\": {\n",
       "                \"show\": true\n",
       "            }\n",
       "        }\n",
       "    },\n",
       "    \"series_id\": 1759925,\n",
       "    \"tooltip\": {\n",
       "        \"trigger\": \"item\",\n",
       "        \"triggerOn\": \"mousemove|click\",\n",
       "        \"axisPointer\": {\n",
       "            \"type\": \"line\"\n",
       "        },\n",
       "        \"formatter\": null,\n",
       "        \"textStyle\": {\n",
       "            \"color\": \"#fff\",\n",
       "            \"fontSize\": 14\n",
       "        }\n",
       "    },\n",
       "    \"series\": [\n",
       "        {\n",
       "            \"type\": \"bar\",\n",
       "            \"name\": \"\\u70b9\\u6570\",\n",
       "            \"data\": [\n",
       "                0.026,\n",
       "                0.059,\n",
       "                0.053,\n",
       "                0.087,\n",
       "                0.053,\n",
       "                0.108,\n",
       "                0.0,\n",
       "                0.06,\n",
       "                0.021,\n",
       "                0.059,\n",
       "                0.0,\n",
       "                0.103,\n",
       "                0.0,\n",
       "                0.0,\n",
       "                0.069,\n",
       "                0.028,\n",
       "                0.0,\n",
       "                0.051\n",
       "            ],\n",
       "            \"stack\": \"\",\n",
       "            \"barCategoryGap\": \"20%\",\n",
       "            \"label\": {\n",
       "                \"normal\": {\n",
       "                    \"show\": false,\n",
       "                    \"position\": \"top\",\n",
       "                    \"textStyle\": {\n",
       "                        \"color\": \"#000\",\n",
       "                        \"fontSize\": 12\n",
       "                    },\n",
       "                    \"formatter\": null\n",
       "                },\n",
       "                \"emphasis\": {\n",
       "                    \"show\": true,\n",
       "                    \"position\": null,\n",
       "                    \"textStyle\": {\n",
       "                        \"color\": \"#fff\",\n",
       "                        \"fontSize\": 12\n",
       "                    }\n",
       "                }\n",
       "            },\n",
       "            \"markPoint\": {\n",
       "                \"data\": []\n",
       "            },\n",
       "            \"markLine\": {\n",
       "                \"data\": []\n",
       "            },\n",
       "            \"seriesId\": 1759925\n",
       "        }\n",
       "    ],\n",
       "    \"legend\": [\n",
       "        {\n",
       "            \"data\": [\n",
       "                \"\\u70b9\\u6570\"\n",
       "            ],\n",
       "            \"selectedMode\": \"multiple\",\n",
       "            \"show\": true,\n",
       "            \"left\": \"center\",\n",
       "            \"top\": \"top\",\n",
       "            \"orient\": \"horizontal\",\n",
       "            \"textStyle\": {\n",
       "                \"fontSize\": 12,\n",
       "                \"color\": \"#333\"\n",
       "            }\n",
       "        }\n",
       "    ],\n",
       "    \"backgroundColor\": \"#fff\",\n",
       "    \"xAxis\": [\n",
       "        {\n",
       "            \"name\": \"\",\n",
       "            \"show\": true,\n",
       "            \"nameLocation\": \"middle\",\n",
       "            \"nameGap\": 25,\n",
       "            \"nameTextStyle\": {\n",
       "                \"fontSize\": 14\n",
       "            },\n",
       "            \"axisLabel\": {\n",
       "                \"interval\": \"auto\",\n",
       "                \"rotate\": 0,\n",
       "                \"margin\": 8\n",
       "            },\n",
       "            \"axisTick\": {\n",
       "                \"alignWithLabel\": false\n",
       "            },\n",
       "            \"inverse\": false,\n",
       "            \"position\": null,\n",
       "            \"boundaryGap\": true,\n",
       "            \"min\": null,\n",
       "            \"max\": null,\n",
       "            \"data\": [\n",
       "                \"1\",\n",
       "                \"2\",\n",
       "                \"3\",\n",
       "                \"4\",\n",
       "                \"5\",\n",
       "                \"6\",\n",
       "                \"7\",\n",
       "                \"8\",\n",
       "                \"9\",\n",
       "                \"10\",\n",
       "                \"11\",\n",
       "                \"12\",\n",
       "                \"13\",\n",
       "                \"14\",\n",
       "                \"15\",\n",
       "                \"16\",\n",
       "                \"17\",\n",
       "                \"18\"\n",
       "            ],\n",
       "            \"type\": \"category\"\n",
       "        }\n",
       "    ],\n",
       "    \"yAxis\": [\n",
       "        {\n",
       "            \"name\": \"\",\n",
       "            \"show\": true,\n",
       "            \"nameLocation\": \"middle\",\n",
       "            \"nameGap\": 25,\n",
       "            \"nameTextStyle\": {\n",
       "                \"fontSize\": 14\n",
       "            },\n",
       "            \"axisLabel\": {\n",
       "                \"formatter\": \"{value} \",\n",
       "                \"rotate\": 0,\n",
       "                \"interval\": \"auto\",\n",
       "                \"margin\": 8\n",
       "            },\n",
       "            \"axisTick\": {\n",
       "                \"alignWithLabel\": false\n",
       "            },\n",
       "            \"inverse\": false,\n",
       "            \"position\": null,\n",
       "            \"boundaryGap\": true,\n",
       "            \"min\": null,\n",
       "            \"max\": null,\n",
       "            \"type\": \"value\"\n",
       "        }\n",
       "    ],\n",
       "    \"color\": [\n",
       "        \"#c23531\",\n",
       "        \"#2f4554\",\n",
       "        \"#61a0a8\",\n",
       "        \"#d48265\",\n",
       "        \"#749f83\",\n",
       "        \"#ca8622\",\n",
       "        \"#bda29a\",\n",
       "        \"#6e7074\",\n",
       "        \"#546570\",\n",
       "        \"#c4ccd3\",\n",
       "        \"#f05b72\",\n",
       "        \"#ef5b9c\",\n",
       "        \"#f47920\",\n",
       "        \"#905a3d\",\n",
       "        \"#fab27b\",\n",
       "        \"#2a5caa\",\n",
       "        \"#444693\",\n",
       "        \"#726930\",\n",
       "        \"#b2d235\",\n",
       "        \"#6d8346\",\n",
       "        \"#ac6767\",\n",
       "        \"#1d953f\",\n",
       "        \"#6950a1\",\n",
       "        \"#918597\",\n",
       "        \"#f6f5ec\"\n",
       "    ]\n",
       "};\n",
       "myChart.setOption(option);\n",
       "\n",
       "    });\n",
       "</script>\n"
      ],
      "text/plain": [
       "<pyecharts.charts.bar.Bar at 0x24de2ec0048>"
      ]
     },
     "execution_count": 71,
     "metadata": {},
     "output_type": "execute_result"
    }
   ],
   "source": [
    "import numpy as np\n",
    "import matplotlib.pyplot as plt\n",
    "from pyecharts import Bar\n",
    "def mydice(number):\n",
    "    rd = np.random.random(number)*6+1\n",
    "    return rd.astype(int)\n",
    "\n",
    "#np.random.seed(19680801)\n",
    "x1=mydice(1000)\n",
    "x2=mydice(1000)\n",
    "x=x1*x2\n",
    "tag=[]\n",
    "sta=[]\n",
    "lx=len(x)\n",
    "for itr in range(len(set(x))):\n",
    "    tag.append(\"%d\"%(itr+1))\n",
    "    sta.append(len(x[x==(itr+1)])/lx)\n",
    "bar = Bar(\"统计图\", \"骰子\")\n",
    "bar.add(\"点数\", tag, sta)\n",
    "#bar.show_config()\n",
    "bar.render(\"echarts/stadice2chart.html\")\n",
    "bar"
   ]
  },
  {
   "cell_type": "code",
   "execution_count": 10,
   "metadata": {},
   "outputs": [
    {
     "data": {
      "image/png": "[encoded data removed]",
      "text/latex": [
       "$$7$$"
      ],
      "text/plain": [
       "7"
      ]
     },
     "execution_count": 10,
     "metadata": {},
     "output_type": "execute_result"
    }
   ],
   "source": [
    "E(dice1+dice2)"
   ]
  },
  {
   "cell_type": "code",
   "execution_count": 11,
   "metadata": {},
   "outputs": [
    {
     "data": {
      "image/png": "[encoded data removed]",
      "text/latex": [
       "$$\\frac{49}{4}$$"
      ],
      "text/plain": [
       "49/4"
      ]
     },
     "execution_count": 11,
     "metadata": {},
     "output_type": "execute_result"
    }
   ],
   "source": [
    "E(dice1*dice2)"
   ]
  },
  {
   "cell_type": "code",
   "execution_count": 28,
   "metadata": {},
   "outputs": [
    {
     "data": {
      "image/png": "[encoded data removed]",
      "text/latex": [
       "$$\\left \\{ \\mathrm{False} : \\frac{5}{12}, \\quad \\mathrm{True} : \\frac{7}{12}\\right \\}$$"
      ],
      "text/plain": [
       "{False: 5/12, True: 7/12}"
      ]
     },
     "execution_count": 28,
     "metadata": {},
     "output_type": "execute_result"
    }
   ],
   "source": [
    "stats.density(dice1+dice2>6)"
   ]
  },
  {
   "cell_type": "code",
   "execution_count": 26,
   "metadata": {},
   "outputs": [
    {
     "data": {
      "image/png": "[encoded data removed]",
      "text/plain": [
       "<matplotlib.figure.Figure at 0x19da0c939e8>"
      ]
     },
     "metadata": {},
     "output_type": "display_data"
    },
    {
     "data": {
      "image/png": "[encoded data removed]",
      "text/plain": [
       "<matplotlib.figure.Figure at 0x19d9fbc07f0>"
      ]
     },
     "metadata": {},
     "output_type": "display_data"
    },
    {
     "data": {
      "text/plain": [
       "<sympy.plotting.plot.Plot at 0x19d9fbc0550>"
      ]
     },
     "execution_count": 26,
     "metadata": {},
     "output_type": "execute_result"
    }
   ],
   "source": [
    "x, y = sym.symbols('x y')\n",
    "normal = stats.Normal('N', 2, 3)\n",
    "sym.plot(stats.P(normal<x),(x,-10,10))\n",
    "sym.plot(stats.P(normal<x).diff(x),(x,-10,10))"
   ]
  },
  {
   "cell_type": "code",
   "execution_count": 3,
   "metadata": {
    "collapsed": true
   },
   "outputs": [],
   "source": [
    "rand1=np.random.normal(loc=1, scale=1, size=[1000])\n",
    "rand2=np.random.normal(loc=1, scale=1, size=[1000])"
   ]
  },
  {
   "cell_type": "code",
   "execution_count": 33,
   "metadata": {},
   "outputs": [
    {
     "data": {
      "image/png": "[encoded data removed]",
      "text/latex": [
       "$$0.942922647195$$"
      ],
      "text/plain": [
       "0.942922647195"
      ]
     },
     "execution_count": 33,
     "metadata": {},
     "output_type": "execute_result"
    }
   ],
   "source": [
    "np.mean(rand1)"
   ]
  },
  {
   "cell_type": "code",
   "execution_count": 34,
   "metadata": {},
   "outputs": [
    {
     "data": {
      "image/png": "[encoded data removed]",
      "text/latex": [
       "$$1.01274348433$$"
      ],
      "text/plain": [
       "1.01274348433"
      ]
     },
     "execution_count": 34,
     "metadata": {},
     "output_type": "execute_result"
    }
   ],
   "source": [
    "np.std(rand1)"
   ]
  },
  {
   "cell_type": "code",
   "execution_count": null,
   "metadata": {
    "collapsed": true
   },
   "outputs": [],
   "source": []
  },
  {
   "cell_type": "code",
   "execution_count": null,
   "metadata": {
    "collapsed": true
   },
   "outputs": [],
   "source": []
  },
  {
   "cell_type": "code",
   "execution_count": 36,
   "metadata": {},
   "outputs": [
    {
     "data": {
      "text/plain": [
       "array([[ 1.       , -0.0180464],\n",
       "       [-0.0180464,  1.       ]])"
      ]
     },
     "execution_count": 36,
     "metadata": {},
     "output_type": "execute_result"
    }
   ],
   "source": [
    "np.corrcoef(rand1, rand2)"
   ]
  },
  {
   "cell_type": "code",
   "execution_count": 5,
   "metadata": {
    "collapsed": true
   },
   "outputs": [],
   "source": [
    "%matplotlib inline\n",
    "import matplotlib.pyplot as plt\n",
    "import numpy as np\n",
    "import matplotlib as mpl\n",
    "mpl.style.use('seaborn-darkgrid')"
   ]
  },
  {
   "cell_type": "code",
   "execution_count": 6,
   "metadata": {},
   "outputs": [
    {
     "data": {
      "text/plain": [
       "<matplotlib.collections.PathCollection at 0x28eec1fd908>"
      ]
     },
     "execution_count": 6,
     "metadata": {},
     "output_type": "execute_result"
    },
    {
     "data": {
      "image/png": "[encoded data removed]",
      "text/plain": [
       "<matplotlib.figure.Figure at 0x28eebd5bac8>"
      ]
     },
     "metadata": {},
     "output_type": "display_data"
    }
   ],
   "source": [
    "fig = plt.figure()\n",
    "ax=fig.add_subplot(2,2,1)\n",
    "ax.scatter(rand1, rand1)\n",
    "ax=fig.add_subplot(2,2,2)\n",
    "ax.scatter(rand1, rand2)\n",
    "ax=fig.add_subplot(2,2,3)\n",
    "ax.scatter(rand2, rand1)\n",
    "ax=fig.add_subplot(2,2,4)\n",
    "ax.scatter(rand2, rand2)"
   ]
  },
  {
   "cell_type": "markdown",
   "metadata": {
    "collapsed": true
   },
   "source": [
    "# 协方差"
   ]
  },
  {
   "cell_type": "markdown",
   "metadata": {},
   "source": [
    "$$\n",
    "E((X-E(X))(Y-E(Y)))\n",
    "$$"
   ]
  },
  {
   "cell_type": "code",
   "execution_count": 1,
   "metadata": {
    "collapsed": true
   },
   "outputs": [],
   "source": [
    "import numpy as np"
   ]
  },
  {
   "cell_type": "code",
   "execution_count": 8,
   "metadata": {
    "collapsed": true
   },
   "outputs": [],
   "source": [
    "rand1=np.random.normal(loc=1, scale=3, size=[1000])\n",
    "rand2=np.random.normal(loc=1, scale=3, size=[1000])"
   ]
  },
  {
   "cell_type": "code",
   "execution_count": 6,
   "metadata": {
    "collapsed": true
   },
   "outputs": [],
   "source": [
    "def Conv(dt1, dt2):\n",
    "    return np.mean((dt1-np.mean(dt1))*(dt2-np.mean(dt2)))"
   ]
  },
  {
   "cell_type": "code",
   "execution_count": 9,
   "metadata": {},
   "outputs": [
    {
     "data": {
      "text/plain": [
       "-0.14984037611140225"
      ]
     },
     "execution_count": 9,
     "metadata": {},
     "output_type": "execute_result"
    }
   ],
   "source": [
    "Conv(rand1, rand2)"
   ]
  },
  {
   "cell_type": "code",
   "execution_count": 11,
   "metadata": {},
   "outputs": [
    {
     "data": {
      "text/plain": [
       "-0.016631410183790416"
      ]
     },
     "execution_count": 11,
     "metadata": {},
     "output_type": "execute_result"
    }
   ],
   "source": [
    "Conv(rand1, rand2)/np.std(rand1)/np.std(rand2)"
   ]
  },
  {
   "cell_type": "code",
   "execution_count": 12,
   "metadata": {},
   "outputs": [
    {
     "data": {
      "text/plain": [
       "array([[ 1.        , -0.01663141],\n",
       "       [-0.01663141,  1.        ]])"
      ]
     },
     "execution_count": 12,
     "metadata": {},
     "output_type": "execute_result"
    }
   ],
   "source": [
    "np.corrcoef(rand1, rand2)"
   ]
  },
  {
   "cell_type": "markdown",
   "metadata": {},
   "source": [
    "## 信息熵"
   ]
  },
  {
   "cell_type": "markdown",
   "metadata": {},
   "source": [
    "第一，假设存在一个随机变量，可以问一下自己当我们观测到该随机变量的一个样本时，我们可以接受到多少信息量呢？毫无疑问，当我们被告知一个极不可能发生的事情发生了，那我们就接收到了更多的信息；而当我们观测到一个非常常见的事情发生了，那么我们就接收到了相对较少的信息量。因此信息的量度应该依赖于概率分布$p(x)$，所以说熵$h(x)$的定义应该是概率的单调函数。\n",
    "\n",
    "第二，假设两个随机变量和是相互独立的，那么分别观测两个变量得到的信息量应该和同时观测两个变量的信息量是相同的，即：$h(x+y)=h(x)+h(y)$。而从概率上来讲，两个独立随机变量就意味着$p(x, y)=p(x)p(y)$，所以此处可以得出结论熵的定义应该是概率的函数。因此一个随机变量的熵可以使用如下定义：\n",
    "$$\n",
    "h(x)=-log(p(x))\n",
    "$$\n",
    "\n",
    "此处的负号仅仅是用来保证熵（即信息量）是正数或者为零。而函数基的选择是任意的（信息论中基常常选择为2，因此信息的单位为比特bits；而机器学习中基常常选择为自然常数，因此单位常常被称为nats）。\n",
    "\n",
    "最后，我们用熵来评价整个随机变量平均的信息量，而平均最好的量度就是随机变量的期望，即熵的定义如下：\n",
    "$$\n",
    "H(x)=-\\sum p(x)log(x)\n",
    "$$"
   ]
  },
  {
   "cell_type": "markdown",
   "metadata": {},
   "source": [
    "### 高斯分布是最大熵分布"
   ]
  },
  {
   "cell_type": "markdown",
   "metadata": {},
   "source": [
    "建立泛函\n",
    "$$\n",
    "F(p(x))=\\int_{-\\infty}^{\\infty} [-p(x)log(p(x))+\\lambda_0 p(x)+\\lambda_1 g(x) p(x)]dx\n",
    "$$"
   ]
  },
  {
   "cell_type": "markdown",
   "metadata": {},
   "source": [
    "$$\n",
    "p(x)=e^{(-1+\\lambda_0+\\lambda_1 g(x))}\n",
    "$$"
   ]
  },
  {
   "cell_type": "markdown",
   "metadata": {},
   "source": [
    "$$\n",
    "g(x)=(x-\\mu)^2\n",
    "$$"
   ]
  },
  {
   "cell_type": "code",
   "execution_count": 23,
   "metadata": {
    "collapsed": true
   },
   "outputs": [],
   "source": [
    "x,n1,n2,mu,sigma = sym.symbols(\"x \\lambda_0 \\lambda_1 \\mu \\sigma\")\n",
    "p=sym.exp(-1+n1+n2*(x-mu)**2)\n",
    "g=(x-mu)**2"
   ]
  },
  {
   "cell_type": "code",
   "execution_count": 24,
   "metadata": {},
   "outputs": [
    {
     "data": {
      "image/png": "[encoded data removed]",
      "text/latex": [
       "$$\\int_{-\\infty}^{\\infty} \\left(- \\mu + x\\right)^{2} e^{\\lambda_0 + \\lambda_1 \\left(- \\mu + x\\right)^{2} - 1}\\, dx = \\sigma^{2}$$"
      ],
      "text/plain": [
       "∞                                                               \n",
       "⌠                                                               \n",
       "⎮                                             2                 \n",
       "⎮            2  \\lambda₀ + \\lambda₁⋅(-\\mu + x)  - 1            2\n",
       "⎮  (-\\mu + x) ⋅ℯ                                    dx = \\sigma \n",
       "⌡                                                               \n",
       "-∞                                                              "
      ]
     },
     "execution_count": 24,
     "metadata": {},
     "output_type": "execute_result"
    }
   ],
   "source": [
    "a = sym.Integral(p*g, (x, -sym.oo,sym.oo))\n",
    "sym.Eq(a, sigma**2)"
   ]
  },
  {
   "cell_type": "code",
   "execution_count": 25,
   "metadata": {},
   "outputs": [
    {
     "data": {
      "image/png": "[encoded data removed]",
      "text/latex": [
       "$$\\int_{-\\infty}^{\\infty} \\left(- \\mu + x\\right)^{2} e^{\\lambda_0 + \\lambda_1 \\left(- \\mu + x\\right)^{2} - 1}\\, dx = \\mu$$"
      ],
      "text/plain": [
       "∞                                                           \n",
       "⌠                                                           \n",
       "⎮                                             2             \n",
       "⎮            2  \\lambda₀ + \\lambda₁⋅(-\\mu + x)  - 1         \n",
       "⎮  (-\\mu + x) ⋅ℯ                                    dx = \\mu\n",
       "⌡                                                           \n",
       "-∞                                                          "
      ]
     },
     "execution_count": 25,
     "metadata": {},
     "output_type": "execute_result"
    }
   ],
   "source": [
    "b = sym.Integral(p, (x, -sym.oo,sym.oo))\n",
    "sym.Eq(a, mu)"
   ]
  },
  {
   "cell_type": "code",
   "execution_count": 26,
   "metadata": {},
   "outputs": [
    {
     "data": {
      "text/latex": [
       "$$\\begin{cases} \\frac{i \\sqrt{\\pi}}{2 \\lambda_1^{\\frac{3}{2}}} e^{\\lambda_0 - 1} & \\text{for}\\: \\left(\\left|{\\operatorname{periodic_{argument}}{\\left (e^{i \\pi} \\operatorname{polar\\_lift}{\\left (\\lambda_1 \\right )},\\infty \\right )}}\\right| \\leq \\frac{\\pi}{2} \\wedge \\left|{\\operatorname{periodic_{argument}}{\\left (\\operatorname{polar\\_lift}^{2}{\\left (\\lambda_1 \\right )} \\operatorname{polar\\_lift}^{2}{\\left (\\mu \\right )},\\infty \\right )}}\\right| < \\pi \\wedge \\left|{\\operatorname{periodic_{argument}}{\\left (e^{2 i \\pi} \\operatorname{polar\\_lift}^{2}{\\left (\\lambda_1 \\right )} \\operatorname{polar\\_lift}^{2}{\\left (\\mu \\right )},\\infty \\right )}}\\right| < \\pi\\right) \\vee \\left|{\\operatorname{periodic_{argument}}{\\left (e^{i \\pi} \\operatorname{polar\\_lift}{\\left (\\lambda_1 \\right )},\\infty \\right )}}\\right| < \\frac{\\pi}{2} \\\\\\int_{-\\infty}^{\\infty} \\left(\\mu - x\\right)^{2} e^{\\lambda_0 + \\lambda_1 \\left(\\mu - x\\right)^{2} - 1}\\, dx & \\text{otherwise} \\end{cases}$$"
      ],
      "text/plain": [
       "⎧                       \\lambda₀ - 1                                          \n",
       "⎪                 ⅈ⋅√π⋅ℯ                                   ⎛│                 \n",
       "⎪                 ──────────────────                   for ⎜│periodic_argument\n",
       "⎪                             3/2                          ⎝                  \n",
       "⎪                   2⋅\\lambda₁                                                \n",
       "⎪                                                                             \n",
       "⎨∞                                                                            \n",
       "⎪⌠                                                                            \n",
       "⎪⎮                                           2                                \n",
       "⎪⎮           2  \\lambda₀ + \\lambda₁⋅(\\mu - x)  - 1                            \n",
       "⎪⎮  (\\mu - x) ⋅ℯ                                   dx                         \n",
       "⎪⌡                                                                            \n",
       "⎩-∞                                                                           \n",
       "\n",
       "                                                                              \n",
       "⎛ ⅈ⋅π                        ⎞│   π   │                 ⎛          2          \n",
       "⎝ℯ   ⋅polar_lift(\\lambda₁), ∞⎠│ ≤ ─ ∧ │periodic_argument⎝polar_lift (\\lambda₁)\n",
       "                                  2                                           \n",
       "                                                                              \n",
       "                                                                              \n",
       "                                                                              \n",
       "                                                                              \n",
       "                                                                              \n",
       "                                                                              \n",
       "                                                                              \n",
       "                                                                              \n",
       "                                                                              \n",
       "\n",
       "                                                                              \n",
       "           2        ⎞│       │                 ⎛ 2⋅ⅈ⋅π           2            \n",
       "⋅polar_lift (\\mu), ∞⎠│ < π ∧ │periodic_argument⎝ℯ     ⋅polar_lift (\\lambda₁)⋅p\n",
       "                                                                              \n",
       "                                                                              \n",
       "                                                                              \n",
       "                                                                              \n",
       "                                                                              \n",
       "                                                                              \n",
       "                                                                              \n",
       "                        otherwise                                             \n",
       "                                                                              \n",
       "                                                                              \n",
       "\n",
       "                                                                              \n",
       "         2        ⎞│    ⎞   │                 ⎛ ⅈ⋅π                        ⎞│ \n",
       "olar_lift (\\mu), ∞⎠│ < π⎟ ∨ │periodic_argument⎝ℯ   ⋅polar_lift(\\lambda₁), ∞⎠│ \n",
       "                        ⎠                                                     \n",
       "                                                                              \n",
       "                                                                              \n",
       "                                                                              \n",
       "                                                                              \n",
       "                                                                              \n",
       "                                                                              \n",
       "                                                                              \n",
       "                                                                              \n",
       "                                                                              \n",
       "\n",
       "   \n",
       "  π\n",
       "< ─\n",
       "  2\n",
       "   \n",
       "   \n",
       "   \n",
       "   \n",
       "   \n",
       "   \n",
       "   \n",
       "   \n",
       "   "
      ]
     },
     "execution_count": 26,
     "metadata": {},
     "output_type": "execute_result"
    }
   ],
   "source": [
    "sym.simplify(a.doit())"
   ]
  },
  {
   "cell_type": "code",
   "execution_count": 28,
   "metadata": {},
   "outputs": [
    {
     "data": {
      "text/latex": [
       "$$\\begin{cases} - \\frac{i \\sqrt{\\pi}}{\\sqrt{\\lambda_1}} e^{\\lambda_0 - 1} & \\text{for}\\: \\left(\\left|{\\operatorname{periodic_{argument}}{\\left (e^{i \\pi} \\operatorname{polar\\_lift}{\\left (\\lambda_1 \\right )},\\infty \\right )}}\\right| \\leq \\frac{\\pi}{2} \\wedge \\left|{\\operatorname{periodic_{argument}}{\\left (\\operatorname{polar\\_lift}^{2}{\\left (\\lambda_1 \\right )} \\operatorname{polar\\_lift}^{2}{\\left (\\mu \\right )},\\infty \\right )}}\\right| < \\pi \\wedge \\left|{\\operatorname{periodic_{argument}}{\\left (e^{2 i \\pi} \\operatorname{polar\\_lift}^{2}{\\left (\\lambda_1 \\right )} \\operatorname{polar\\_lift}^{2}{\\left (\\mu \\right )},\\infty \\right )}}\\right| < \\pi\\right) \\vee \\left|{\\operatorname{periodic_{argument}}{\\left (e^{i \\pi} \\operatorname{polar\\_lift}{\\left (\\lambda_1 \\right )},\\infty \\right )}}\\right| < \\frac{\\pi}{2} \\\\\\int_{-\\infty}^{\\infty} e^{\\lambda_0 + \\lambda_1 \\left(\\mu - x\\right)^{2} - 1}\\, dx & \\text{otherwise} \\end{cases}$$"
      ],
      "text/plain": [
       "⎧                 \\lambda₀ - 1                                                \n",
       "⎪          -ⅈ⋅√π⋅ℯ                              ⎛│                 ⎛ ⅈ⋅π      \n",
       "⎪          ────────────────────             for ⎜│periodic_argument⎝ℯ   ⋅polar\n",
       "⎪                __________                     ⎝                             \n",
       "⎪              ╲╱ \\lambda₁                                                    \n",
       "⎪                                                                             \n",
       "⎨∞                                                                            \n",
       "⎪⌠                                                                            \n",
       "⎪⎮                                2                                           \n",
       "⎪⎮   \\lambda₀ + \\lambda₁⋅(\\mu - x)  - 1                                       \n",
       "⎪⎮  ℯ                                   dx                                    \n",
       "⎪⌡                                                                            \n",
       "⎩-∞                                                                           \n",
       "\n",
       "                                                                              \n",
       "                  ⎞│   π   │                 ⎛          2                     \n",
       "_lift(\\lambda₁), ∞⎠│ ≤ ─ ∧ │periodic_argument⎝polar_lift (\\lambda₁)⋅polar_lift\n",
       "                       2                                                      \n",
       "                                                                              \n",
       "                                                                              \n",
       "                                                                              \n",
       "                                                                              \n",
       "                                                                              \n",
       "                                                                              \n",
       "                                                                              \n",
       "                                                                              \n",
       "                                                                              \n",
       "\n",
       "                                                                              \n",
       "2        ⎞│       │                 ⎛ 2⋅ⅈ⋅π           2                     2 \n",
       " (\\mu), ∞⎠│ < π ∧ │periodic_argument⎝ℯ     ⋅polar_lift (\\lambda₁)⋅polar_lift (\n",
       "                                                                              \n",
       "                                                                              \n",
       "                                                                              \n",
       "                                                                              \n",
       "                                                                              \n",
       "                                                                              \n",
       "                                                                              \n",
       "             otherwise                                                        \n",
       "                                                                              \n",
       "                                                                              \n",
       "\n",
       "                                                                      \n",
       "       ⎞│    ⎞   │                 ⎛ ⅈ⋅π                        ⎞│   π\n",
       "\\mu), ∞⎠│ < π⎟ ∨ │periodic_argument⎝ℯ   ⋅polar_lift(\\lambda₁), ∞⎠│ < ─\n",
       "             ⎠                                                       2\n",
       "                                                                      \n",
       "                                                                      \n",
       "                                                                      \n",
       "                                                                      \n",
       "                                                                      \n",
       "                                                                      \n",
       "                                                                      \n",
       "                                                                      \n",
       "                                                                      "
      ]
     },
     "execution_count": 28,
     "metadata": {},
     "output_type": "execute_result"
    }
   ],
   "source": [
    "sym.simplify(b.doit())"
   ]
  },
  {
   "cell_type": "code",
   "execution_count": 36,
   "metadata": {},
   "outputs": [
    {
     "data": {
      "image/png": "[encoded data removed]",
      "text/latex": [
       "$$\\left [ \\left ( \\log{\\left (- \\sqrt{- \\frac{1}{\\sigma^{2}}} \\right )} - \\frac{1}{2} \\log{\\left (\\pi \\right )} - \\frac{1}{2} \\log{\\left (2 \\right )} + 1, \\quad \\frac{1}{2 \\sigma^{2}}\\right ), \\quad \\left ( \\log{\\left (\\sqrt{- \\frac{1}{\\sigma^{2}}} \\right )} - \\frac{1}{2} \\log{\\left (\\pi \\right )} - \\frac{1}{2} \\log{\\left (2 \\right )} + 1, \\quad \\frac{1}{2 \\sigma^{2}}\\right ), \\quad \\left ( \\log{\\left (- \\sqrt{\\frac{1}{\\sigma^{2}}} \\right )} - \\frac{1}{2} \\log{\\left (\\pi \\right )} - \\frac{1}{2} \\log{\\left (2 \\right )} + 1, \\quad - \\frac{1}{2 \\sigma^{2}}\\right ), \\quad \\left ( \\log{\\left (\\sqrt{\\frac{1}{\\sigma^{2}}} \\right )} - \\frac{1}{2} \\log{\\left (\\pi \\right )} - \\frac{1}{2} \\log{\\left (2 \\right )} + 1, \\quad - \\frac{1}{2 \\sigma^{2}}\\right )\\right ]$$"
      ],
      "text/plain": [
       "⎡⎛   ⎛      _________⎞                                 ⎞  ⎛   ⎛     _________⎞\n",
       "⎢⎜   ⎜     ╱   -1    ⎟   log(π)   log(2)          1    ⎟  ⎜   ⎜    ╱   -1    ⎟\n",
       "⎢⎜log⎜-   ╱  ─────── ⎟ - ────── - ────── + 1, ─────────⎟, ⎜log⎜   ╱  ─────── ⎟\n",
       "⎢⎜   ⎜   ╱         2 ⎟     2        2                 2⎟  ⎜   ⎜  ╱         2 ⎟\n",
       "⎣⎝   ⎝ ╲╱    \\sigma  ⎠                        2⋅\\sigma ⎠  ⎝   ⎝╲╱    \\sigma  ⎠\n",
       "\n",
       "                                 ⎞  ⎛   ⎛      _________⎞                     \n",
       "   log(π)   log(2)          1    ⎟  ⎜   ⎜     ╱    1    ⎟   log(π)   log(2)   \n",
       " - ────── - ────── + 1, ─────────⎟, ⎜log⎜-   ╱  ─────── ⎟ - ────── - ────── + \n",
       "     2        2                 2⎟  ⎜   ⎜   ╱         2 ⎟     2        2      \n",
       "                        2⋅\\sigma ⎠  ⎝   ⎝ ╲╱    \\sigma  ⎠                     \n",
       "\n",
       "            ⎞  ⎛   ⎛     _________⎞                                 ⎞⎤\n",
       "      -1    ⎟  ⎜   ⎜    ╱    1    ⎟   log(π)   log(2)         -1    ⎟⎥\n",
       "1, ─────────⎟, ⎜log⎜   ╱  ─────── ⎟ - ────── - ────── + 1, ─────────⎟⎥\n",
       "           2⎟  ⎜   ⎜  ╱         2 ⎟     2        2                 2⎟⎥\n",
       "   2⋅\\sigma ⎠  ⎝   ⎝╲╱    \\sigma  ⎠                        2⋅\\sigma ⎠⎦"
      ]
     },
     "execution_count": 36,
     "metadata": {},
     "output_type": "execute_result"
    }
   ],
   "source": [
    "eq1=-(sym.pi/(4*n2**3))*sym.exp(2*n1-2)-sigma**4\n",
    "eq2=-(sym.pi/(n2))*sym.exp(2*n1-2)-1\n",
    "sym.solve((eq1, eq2),n1, n2)"
   ]
  },
  {
   "cell_type": "code",
   "execution_count": null,
   "metadata": {
    "collapsed": true
   },
   "outputs": [],
   "source": [
    "## 积分收敛\n",
    "$$\n",
    "\\lambda_1<0\n",
    "$$"
   ]
  }
 ],
 "metadata": {
  "anaconda-cloud": {},
  "kernelspec": {
   "display_name": "Python 2",
   "language": "python",
   "name": "python2"
  },
  "language_info": {
   "codemirror_mode": {
    "name": "ipython",
    "version": 2
   },
   "file_extension": ".py",
   "mimetype": "text/x-python",
   "name": "python",
   "nbconvert_exporter": "python",
   "pygments_lexer": "ipython2",
   "version": "2.7.14"
  }
 },
 "nbformat": 4,
 "nbformat_minor": 2
}

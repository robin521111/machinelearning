{
 "cells": [
  {
   "cell_type": "markdown",
   "metadata": {},
   "source": [
    "# 矩阵和张量\n",
    "$$\\LaTeX$$"
   ]
  },
  {
   "cell_type": "code",
   "execution_count": 1,
   "metadata": {
    "collapsed": false
   },
   "outputs": [
    {
     "name": "stdout",
     "output_type": "stream",
     "text": [
      "NumPy version: 1.13.1\n",
      "SciPy version: 0.19.1\n",
      "SymPy version: 1.1.1\n",
      "Matplotlib version: 2.0.2\n",
      "SkLearn version: 0.19.0\n"
     ]
    }
   ],
   "source": [
    "import numpy as np\n",
    "import scipy\n",
    "import sympy as sym\n",
    "import matplotlib\n",
    "import sklearn\n",
    "sym.init_printing()\n",
    "\n",
    "print(\"NumPy version:\", np.__version__)\n",
    "print(\"SciPy version:\", scipy.__version__)\n",
    "print(\"SymPy version:\", sym.__version__)\n",
    "print(\"Matplotlib version:\", matplotlib.__version__)\n",
    "print(\"SkLearn version:\", sklearn.__version__)"
   ]
  },
  {
   "cell_type": "markdown",
   "metadata": {},
   "source": [
    "## 符号说明"
   ]
  },
  {
   "cell_type": "markdown",
   "metadata": {},
   "source": [
    "以下是要使用符号:\n",
    "\n",
    "符号$A \\in R^{m×n}$表示一个m行n列的矩阵，并且矩阵A中的所有元素都是实数, 可以写作$A_{mn}$。\n",
    "符号$x \\in R^n$表示一个含有n个元素的向量。通常，我们把n维向量看成是一个n行1列矩阵，即列向量。如果我们想表示一个行向量（1行n列矩阵），我们通常写作$x^T$ (xT表示x的转置，后面会解释它的定义)。\n",
    "一个向量x的第i个元素表示为{x_i}：\n",
    "\n",
    "我们用$a_{ij}$ (或$A_{ij}$) 表示第i行第j列的元素："
   ]
  },
  {
   "cell_type": "markdown",
   "metadata": {},
   "source": [
    "## 矩阵基础运算"
   ]
  },
  {
   "cell_type": "code",
   "execution_count": 23,
   "metadata": {
    "collapsed": false
   },
   "outputs": [
    {
     "data": {
      "text/latex": [
       "$$\\left[\\begin{matrix}x_{11} & x_{12} & x_{13}\\\\x_{21} & x_{22} & x_{23}\\\\x_{31} & x_{32} & x_{33}\\end{matrix}\\right]$$"
      ],
      "text/plain": [
       "⎡x₁₁  x₁₂  x₁₃⎤\n",
       "⎢             ⎥\n",
       "⎢x₂₁  x₂₂  x₂₃⎥\n",
       "⎢             ⎥\n",
       "⎣x₃₁  x₃₂  x₃₃⎦"
      ]
     },
     "execution_count": 23,
     "metadata": {},
     "output_type": "execute_result"
    }
   ],
   "source": [
    "x_11,x_12,x_13 = sym.var('x_11 x_12 x_13')\n",
    "x_21,x_22,x_23 = sym.var('x_21 x_22 x_23')\n",
    "x_31,x_32,x_33 = sym.var('x_31 x_32 x_33')\n",
    "M = sym.Matrix([[x_11,x_12,x_13],[x_21,x_22,x_23],[x_31,x_32,x_33]])\n",
    "M"
   ]
  },
  {
   "cell_type": "code",
   "execution_count": 40,
   "metadata": {
    "collapsed": false
   },
   "outputs": [
    {
     "data": {
      "image/png": "[encoded data removed]",
      "text/latex": [
       "$$\\left [ v_{1} x_{11} + v_{2} x_{12} + v_{3} x_{13}, \\quad v_{1} x_{21} + v_{2} x_{22} + v_{3} x_{23}, \\quad v_{1} x_{31} + v_{2} x_{32} + v_{3} x_{33}\\right ]$$"
      ],
      "text/plain": [
       "[v₁⋅x₁₁ + v₂⋅x₁₂ + v₃⋅x₁₃, v₁⋅x₂₁ + v₂⋅x₂₂ + v₃⋅x₂₃, v₁⋅x₃₁ + v₂⋅x₃₂ + v₃⋅x₃₃]"
      ]
     },
     "execution_count": 40,
     "metadata": {},
     "output_type": "execute_result"
    }
   ],
   "source": [
    "v_1, v_2, v_3 = sym.var('v_1, v_2, v_3')\n",
    "V = sym.Matrix([[v_1],[v_2],[v_3]])\n",
    "M.dot(V)"
   ]
  },
  {
   "cell_type": "markdown",
   "metadata": {},
   "source": [
    "### 矩阵运算性质\n",
    "- 结合律即(AB)C = A(BC)\n",
    "- 分配率即A(B + C) = AB + AC\n",
    "- **矩阵乘法没有交换律**，即AB ≠BA."
   ]
  },
  {
   "cell_type": "markdown",
   "metadata": {},
   "source": [
    "结合律"
   ]
  },
  {
   "cell_type": "code",
   "execution_count": 9,
   "metadata": {
    "collapsed": true
   },
   "outputs": [],
   "source": [
    "An=np.array([[1,1],[2,1]])\n",
    "Bn=np.array([[2,2],[3,2]])\n",
    "Cn=np.array([[3,3],[4,3]])"
   ]
  },
  {
   "cell_type": "code",
   "execution_count": 10,
   "metadata": {
    "collapsed": false
   },
   "outputs": [
    {
     "data": {
      "text/plain": [
       "array([[31, 27],\n",
       "       [45, 39]])"
      ]
     },
     "execution_count": 10,
     "metadata": {},
     "output_type": "execute_result"
    }
   ],
   "source": [
    "np.dot(np.dot(An,Bn),Cn)"
   ]
  },
  {
   "cell_type": "code",
   "execution_count": 11,
   "metadata": {
    "collapsed": false
   },
   "outputs": [
    {
     "data": {
      "text/plain": [
       "array([[31, 27],\n",
       "       [45, 39]])"
      ]
     },
     "execution_count": 11,
     "metadata": {},
     "output_type": "execute_result"
    }
   ],
   "source": [
    "np.dot(An,np.dot(Bn,Cn))"
   ]
  },
  {
   "cell_type": "code",
   "execution_count": 12,
   "metadata": {
    "collapsed": false
   },
   "outputs": [
    {
     "data": {
      "text/plain": [
       "array([[39, 27],\n",
       "       [45, 31]])"
      ]
     },
     "execution_count": 12,
     "metadata": {},
     "output_type": "execute_result"
    }
   ],
   "source": [
    "np.dot(np.dot(Cn,Bn),An)"
   ]
  },
  {
   "cell_type": "markdown",
   "metadata": {},
   "source": [
    "分配律"
   ]
  },
  {
   "cell_type": "code",
   "execution_count": 13,
   "metadata": {
    "collapsed": true
   },
   "outputs": [],
   "source": [
    "An=np.array([[1,1],[2,1]])\n",
    "Bn=np.array([[2,2],[3,2]])\n",
    "Cn=np.array([[3,3],[4,3]])"
   ]
  },
  {
   "cell_type": "code",
   "execution_count": 14,
   "metadata": {
    "collapsed": false
   },
   "outputs": [
    {
     "data": {
      "text/plain": [
       "array([[12, 10],\n",
       "       [17, 15]])"
      ]
     },
     "execution_count": 14,
     "metadata": {},
     "output_type": "execute_result"
    }
   ],
   "source": [
    "np.dot(An,(Bn+Cn))"
   ]
  },
  {
   "cell_type": "code",
   "execution_count": 15,
   "metadata": {
    "collapsed": false
   },
   "outputs": [
    {
     "data": {
      "text/plain": [
       "array([[12, 10],\n",
       "       [17, 15]])"
      ]
     },
     "execution_count": 15,
     "metadata": {},
     "output_type": "execute_result"
    }
   ],
   "source": [
    "np.dot(An,Bn)+np.dot(An,Cn)"
   ]
  },
  {
   "cell_type": "code",
   "execution_count": 16,
   "metadata": {
    "collapsed": false
   },
   "outputs": [
    {
     "data": {
      "text/plain": [
       "array([[15, 10],\n",
       "       [17, 12]])"
      ]
     },
     "execution_count": 16,
     "metadata": {},
     "output_type": "execute_result"
    }
   ],
   "source": [
    "np.dot((Bn+Cn),An)"
   ]
  },
  {
   "cell_type": "markdown",
   "metadata": {},
   "source": [
    "## 公式推导工具\n",
    "约定求和，用于张量运算"
   ]
  },
  {
   "cell_type": "markdown",
   "metadata": {},
   "source": [
    "$$\n",
    "A=a_{ij}e^i e^j\\\\\n",
    "B=B_{km}e^k e^m\\\\\n",
    "e^i\\cdot e^j=\\delta_{ij}\\\\\n",
    "a_{ij} \\delta_{ij}=a_{ii}\n",
    "$$"
   ]
  },
  {
   "cell_type": "markdown",
   "metadata": {},
   "source": [
    "$$\n",
    "A\\cdot B\\\\\n",
    "\\sum_k {a_{ik}b_{kj}} \\triangleq a_{ik}b_{kj}\n",
    "$$"
   ]
  },
  {
   "cell_type": "markdown",
   "metadata": {},
   "source": [
    "$$\n",
    "A\\cdot B \\cdot C=a_{ij} b_{jk} c_{km} e^i e^m\n",
    "$$"
   ]
  },
  {
   "cell_type": "markdown",
   "metadata": {},
   "source": [
    "## 单位矩阵对角矩阵"
   ]
  },
  {
   "cell_type": "markdown",
   "metadata": {},
   "source": [
    "$$\n",
    "I\\cdot A = A\\cdot I\\\\\n",
    "I=\\delta_{ij}\n",
    "$$"
   ]
  },
  {
   "cell_type": "code",
   "execution_count": 21,
   "metadata": {
    "collapsed": false
   },
   "outputs": [
    {
     "data": {
      "text/latex": [
       "$$\\left[\\begin{matrix}1 & 0 & 0\\\\0 & 1 & 0\\\\0 & 0 & 1\\end{matrix}\\right]$$"
      ],
      "text/plain": [
       "⎡1  0  0⎤\n",
       "⎢       ⎥\n",
       "⎢0  1  0⎥\n",
       "⎢       ⎥\n",
       "⎣0  0  1⎦"
      ]
     },
     "execution_count": 21,
     "metadata": {},
     "output_type": "execute_result"
    }
   ],
   "source": [
    "E=sym.eye(3)\n",
    "E"
   ]
  },
  {
   "cell_type": "code",
   "execution_count": 24,
   "metadata": {
    "collapsed": false
   },
   "outputs": [
    {
     "data": {
      "text/latex": [
       "$$\\left[\\begin{matrix}x_{11} & x_{12} & x_{13}\\\\x_{21} & x_{22} & x_{23}\\\\x_{31} & x_{32} & x_{33}\\end{matrix}\\right]$$"
      ],
      "text/plain": [
       "⎡x₁₁  x₁₂  x₁₃⎤\n",
       "⎢             ⎥\n",
       "⎢x₂₁  x₂₂  x₂₃⎥\n",
       "⎢             ⎥\n",
       "⎣x₃₁  x₃₂  x₃₃⎦"
      ]
     },
     "execution_count": 24,
     "metadata": {},
     "output_type": "execute_result"
    }
   ],
   "source": [
    "M*E"
   ]
  },
  {
   "cell_type": "code",
   "execution_count": 28,
   "metadata": {
    "collapsed": false
   },
   "outputs": [
    {
     "data": {
      "text/latex": [
       "$$\\left[\\begin{matrix}x_{11} & x_{12} & x_{13}\\\\x_{21} + x_{31} & x_{22} + x_{32} & x_{23} + x_{33}\\\\x_{31} & x_{32} & x_{33}\\end{matrix}\\right]$$"
      ],
      "text/plain": [
       "⎡   x₁₁        x₁₂        x₁₃   ⎤\n",
       "⎢                               ⎥\n",
       "⎢x₂₁ + x₃₁  x₂₂ + x₃₂  x₂₃ + x₃₃⎥\n",
       "⎢                               ⎥\n",
       "⎣   x₃₁        x₃₂        x₃₃   ⎦"
      ]
     },
     "execution_count": 28,
     "metadata": {},
     "output_type": "execute_result"
    }
   ],
   "source": [
    "E[1,2]=1\n",
    "E[1,0]=0\n",
    "E*M"
   ]
  },
  {
   "cell_type": "markdown",
   "metadata": {},
   "source": [
    "## 矩阵转置"
   ]
  },
  {
   "cell_type": "markdown",
   "metadata": {},
   "source": [
    "$$\n",
    "A=a_{ij}\\\\\n",
    "A^T=a_{ji}\n",
    "$$"
   ]
  },
  {
   "cell_type": "code",
   "execution_count": 34,
   "metadata": {
    "collapsed": false
   },
   "outputs": [
    {
     "data": {
      "text/plain": [
       "array([[1, 1],\n",
       "       [2, 1]])"
      ]
     },
     "execution_count": 34,
     "metadata": {},
     "output_type": "execute_result"
    }
   ],
   "source": [
    "An=np.array([[1,1],[2,1]])\n",
    "Bn=np.array([[2,2],[3,2]])\n",
    "Cn=np.array([[3,3],[4,3]])\n",
    "An"
   ]
  },
  {
   "cell_type": "code",
   "execution_count": 33,
   "metadata": {
    "collapsed": false
   },
   "outputs": [
    {
     "data": {
      "text/plain": [
       "array([[1, 2],\n",
       "       [1, 1]])"
      ]
     },
     "execution_count": 33,
     "metadata": {},
     "output_type": "execute_result"
    }
   ],
   "source": [
    "np.transpose(An)"
   ]
  },
  {
   "cell_type": "code",
   "execution_count": 35,
   "metadata": {
    "collapsed": false
   },
   "outputs": [
    {
     "data": {
      "text/plain": [
       "array([[5, 4],\n",
       "       [7, 6]])"
      ]
     },
     "execution_count": 35,
     "metadata": {},
     "output_type": "execute_result"
    }
   ],
   "source": [
    "np.dot(An, Bn)"
   ]
  },
  {
   "cell_type": "code",
   "execution_count": 36,
   "metadata": {
    "collapsed": false
   },
   "outputs": [
    {
     "data": {
      "text/plain": [
       "array([[5, 7],\n",
       "       [4, 6]])"
      ]
     },
     "execution_count": 36,
     "metadata": {},
     "output_type": "execute_result"
    }
   ],
   "source": [
    "np.dot(np.transpose(Bn), np.transpose(An))"
   ]
  },
  {
   "cell_type": "code",
   "execution_count": 37,
   "metadata": {
    "collapsed": false
   },
   "outputs": [
    {
     "data": {
      "text/plain": [
       "array([[6, 4],\n",
       "       [7, 5]])"
      ]
     },
     "execution_count": 37,
     "metadata": {},
     "output_type": "execute_result"
    }
   ],
   "source": [
    "np.dot(Bn, An)"
   ]
  },
  {
   "cell_type": "markdown",
   "metadata": {},
   "source": [
    "## 对称矩阵"
   ]
  },
  {
   "cell_type": "markdown",
   "metadata": {},
   "source": [
    "$$\n",
    "A^T=A\n",
    "$$"
   ]
  },
  {
   "cell_type": "code",
   "execution_count": 38,
   "metadata": {
    "collapsed": true
   },
   "outputs": [],
   "source": [
    "A1=(An+np.transpose(An))/2\n",
    "A2=(An-np.transpose(An))/2"
   ]
  },
  {
   "cell_type": "code",
   "execution_count": 39,
   "metadata": {
    "collapsed": false
   },
   "outputs": [
    {
     "data": {
      "text/plain": [
       "array([[ 1. ,  1.5],\n",
       "       [ 1.5,  1. ]])"
      ]
     },
     "execution_count": 39,
     "metadata": {},
     "output_type": "execute_result"
    }
   ],
   "source": [
    "A1"
   ]
  },
  {
   "cell_type": "code",
   "execution_count": 40,
   "metadata": {
    "collapsed": false
   },
   "outputs": [
    {
     "data": {
      "text/plain": [
       "array([[ 0. , -0.5],\n",
       "       [ 0.5,  0. ]])"
      ]
     },
     "execution_count": 40,
     "metadata": {},
     "output_type": "execute_result"
    }
   ],
   "source": [
    "A2"
   ]
  },
  {
   "cell_type": "markdown",
   "metadata": {},
   "source": [
    "## 矩阵迹"
   ]
  },
  {
   "cell_type": "markdown",
   "metadata": {},
   "source": [
    "$$\n",
    "tr(A)=a_{ii}\n",
    "$$"
   ]
  },
  {
   "cell_type": "code",
   "execution_count": 41,
   "metadata": {
    "collapsed": false
   },
   "outputs": [
    {
     "data": {
      "text/plain": [
       "70"
      ]
     },
     "execution_count": 41,
     "metadata": {},
     "output_type": "execute_result"
    }
   ],
   "source": [
    "np.trace(np.dot(np.dot(An,Bn),Cn))"
   ]
  },
  {
   "cell_type": "code",
   "execution_count": 42,
   "metadata": {
    "collapsed": false
   },
   "outputs": [
    {
     "data": {
      "text/plain": [
       "70"
      ]
     },
     "execution_count": 42,
     "metadata": {},
     "output_type": "execute_result"
    }
   ],
   "source": [
    "np.trace(np.dot(np.dot(Cn,Bn),An))"
   ]
  },
  {
   "cell_type": "code",
   "execution_count": 43,
   "metadata": {
    "collapsed": false
   },
   "outputs": [
    {
     "data": {
      "text/plain": [
       "70"
      ]
     },
     "execution_count": 43,
     "metadata": {},
     "output_type": "execute_result"
    }
   ],
   "source": [
    "np.trace(np.dot(np.dot(Cn,An),Bn))"
   ]
  },
  {
   "cell_type": "markdown",
   "metadata": {},
   "source": [
    "## 范数"
   ]
  },
  {
   "cell_type": "markdown",
   "metadata": {},
   "source": [
    "$$\n",
    "||v||^1=\\sum_i |x_i|\\\\\n",
    "||v||^2=x_i x_i\\\\\n",
    "\\cdots\n",
    "$$"
   ]
  },
  {
   "cell_type": "markdown",
   "metadata": {},
   "source": [
    "## 矩阵行列式"
   ]
  },
  {
   "cell_type": "code",
   "execution_count": 2,
   "metadata": {
    "collapsed": false
   },
   "outputs": [
    {
     "data": {
      "text/plain": [
       "2.0"
      ]
     },
     "execution_count": 2,
     "metadata": {},
     "output_type": "execute_result"
    }
   ],
   "source": [
    "import numpy as np\n",
    "mat = np.array([[1,1],[-1,1]])\n",
    "det = np.linalg.det(mat)\n",
    "det"
   ]
  },
  {
   "cell_type": "markdown",
   "metadata": {},
   "source": [
    "## 矩阵逆"
   ]
  },
  {
   "cell_type": "code",
   "execution_count": 42,
   "metadata": {
    "collapsed": false
   },
   "outputs": [
    {
     "data": {
      "image/png": "[encoded data removed]",
      "text/latex": [
       "$$\\left[\\begin{matrix}- \\frac{\\left(x_{11} x_{22} - x_{12} x_{21}\\right) \\left(- \\frac{x_{12} \\left(x_{23} - \\frac{x_{13} x_{21}}{x_{11}}\\right)}{x_{11} \\left(x_{22} - \\frac{x_{12} x_{21}}{x_{11}}\\right)} + \\frac{x_{13}}{x_{11}}\\right) \\left(\\frac{x_{21} \\left(x_{32} - \\frac{x_{12} x_{31}}{x_{11}}\\right)}{x_{11} \\left(x_{22} - \\frac{x_{12} x_{21}}{x_{11}}\\right)} - \\frac{x_{31}}{x_{11}}\\right)}{x_{11} x_{22} x_{33} - x_{11} x_{23} x_{32} - x_{12} x_{21} x_{33} + x_{12} x_{23} x_{31} + x_{13} x_{21} x_{32} - x_{13} x_{22} x_{31}} + \\frac{1}{x_{11}} + \\frac{x_{12} x_{21}}{x_{11}^{2} \\left(x_{22} - \\frac{x_{12} x_{21}}{x_{11}}\\right)} & \\frac{\\left(x_{32} - \\frac{x_{12} x_{31}}{x_{11}}\\right) \\left(x_{11} x_{22} - x_{12} x_{21}\\right) \\left(- \\frac{x_{12} \\left(x_{23} - \\frac{x_{13} x_{21}}{x_{11}}\\right)}{x_{11} \\left(x_{22} - \\frac{x_{12} x_{21}}{x_{11}}\\right)} + \\frac{x_{13}}{x_{11}}\\right)}{\\left(x_{22} - \\frac{x_{12} x_{21}}{x_{11}}\\right) \\left(x_{11} x_{22} x_{33} - x_{11} x_{23} x_{32} - x_{12} x_{21} x_{33} + x_{12} x_{23} x_{31} + x_{13} x_{21} x_{32} - x_{13} x_{22} x_{31}\\right)} - \\frac{x_{12}}{x_{11} \\left(x_{22} - \\frac{x_{12} x_{21}}{x_{11}}\\right)} & - \\frac{\\left(x_{11} x_{22} - x_{12} x_{21}\\right) \\left(- \\frac{x_{12} \\left(x_{23} - \\frac{x_{13} x_{21}}{x_{11}}\\right)}{x_{11} \\left(x_{22} - \\frac{x_{12} x_{21}}{x_{11}}\\right)} + \\frac{x_{13}}{x_{11}}\\right)}{x_{11} x_{22} x_{33} - x_{11} x_{23} x_{32} - x_{12} x_{21} x_{33} + x_{12} x_{23} x_{31} + x_{13} x_{21} x_{32} - x_{13} x_{22} x_{31}}\\\\- \\frac{\\left(x_{23} - \\frac{x_{13} x_{21}}{x_{11}}\\right) \\left(x_{11} x_{22} - x_{12} x_{21}\\right) \\left(\\frac{x_{21} \\left(x_{32} - \\frac{x_{12} x_{31}}{x_{11}}\\right)}{x_{11} \\left(x_{22} - \\frac{x_{12} x_{21}}{x_{11}}\\right)} - \\frac{x_{31}}{x_{11}}\\right)}{\\left(x_{22} - \\frac{x_{12} x_{21}}{x_{11}}\\right) \\left(x_{11} x_{22} x_{33} - x_{11} x_{23} x_{32} - x_{12} x_{21} x_{33} + x_{12} x_{23} x_{31} + x_{13} x_{21} x_{32} - x_{13} x_{22} x_{31}\\right)} - \\frac{x_{21}}{x_{11} \\left(x_{22} - \\frac{x_{12} x_{21}}{x_{11}}\\right)} & \\frac{1}{x_{22} - \\frac{x_{12} x_{21}}{x_{11}}} + \\frac{\\left(x_{23} - \\frac{x_{13} x_{21}}{x_{11}}\\right) \\left(x_{32} - \\frac{x_{12} x_{31}}{x_{11}}\\right) \\left(x_{11} x_{22} - x_{12} x_{21}\\right)}{\\left(x_{22} - \\frac{x_{12} x_{21}}{x_{11}}\\right)^{2} \\left(x_{11} x_{22} x_{33} - x_{11} x_{23} x_{32} - x_{12} x_{21} x_{33} + x_{12} x_{23} x_{31} + x_{13} x_{21} x_{32} - x_{13} x_{22} x_{31}\\right)} & - \\frac{\\left(x_{23} - \\frac{x_{13} x_{21}}{x_{11}}\\right) \\left(x_{11} x_{22} - x_{12} x_{21}\\right)}{\\left(x_{22} - \\frac{x_{12} x_{21}}{x_{11}}\\right) \\left(x_{11} x_{22} x_{33} - x_{11} x_{23} x_{32} - x_{12} x_{21} x_{33} + x_{12} x_{23} x_{31} + x_{13} x_{21} x_{32} - x_{13} x_{22} x_{31}\\right)}\\\\\\frac{\\left(x_{11} x_{22} - x_{12} x_{21}\\right) \\left(\\frac{x_{21} \\left(x_{32} - \\frac{x_{12} x_{31}}{x_{11}}\\right)}{x_{11} \\left(x_{22} - \\frac{x_{12} x_{21}}{x_{11}}\\right)} - \\frac{x_{31}}{x_{11}}\\right)}{x_{11} x_{22} x_{33} - x_{11} x_{23} x_{32} - x_{12} x_{21} x_{33} + x_{12} x_{23} x_{31} + x_{13} x_{21} x_{32} - x_{13} x_{22} x_{31}} & - \\frac{\\left(x_{32} - \\frac{x_{12} x_{31}}{x_{11}}\\right) \\left(x_{11} x_{22} - x_{12} x_{21}\\right)}{\\left(x_{22} - \\frac{x_{12} x_{21}}{x_{11}}\\right) \\left(x_{11} x_{22} x_{33} - x_{11} x_{23} x_{32} - x_{12} x_{21} x_{33} + x_{12} x_{23} x_{31} + x_{13} x_{21} x_{32} - x_{13} x_{22} x_{31}\\right)} & \\frac{x_{11} x_{22} - x_{12} x_{21}}{x_{11} x_{22} x_{33} - x_{11} x_{23} x_{32} - x_{12} x_{21} x_{33} + x_{12} x_{23} x_{31} + x_{13} x_{21} x_{32} - x_{13} x_{22} x_{31}}\\end{matrix}\\right]$$"
      ],
      "text/plain": [
       "⎡                             ⎛      ⎛      x₁₃⋅x₂₁⎞      ⎞ ⎛    ⎛      x₁₂⋅x₃\n",
       "⎢                             ⎜  x₁₂⋅⎜x₂₃ - ───────⎟      ⎟ ⎜x₂₁⋅⎜x₃₂ - ──────\n",
       "⎢                             ⎜      ⎝        x₁₁  ⎠   x₁₃⎟ ⎜    ⎝        x₁₁ \n",
       "⎢         (x₁₁⋅x₂₂ - x₁₂⋅x₂₁)⋅⎜- ─────────────────── + ───⎟⋅⎜─────────────────\n",
       "⎢                             ⎜      ⎛      x₁₂⋅x₂₁⎞   x₁₁⎟ ⎜    ⎛      x₁₂⋅x₂\n",
       "⎢                             ⎜  x₁₁⋅⎜x₂₂ - ───────⎟      ⎟ ⎜x₁₁⋅⎜x₂₂ - ──────\n",
       "⎢                             ⎝      ⎝        x₁₁  ⎠      ⎠ ⎝    ⎝        x₁₁ \n",
       "⎢     - ──────────────────────────────────────────────────────────────────────\n",
       "⎢       x₁₁⋅x₂₂⋅x₃₃ - x₁₁⋅x₂₃⋅x₃₂ - x₁₂⋅x₂₁⋅x₃₃ + x₁₂⋅x₂₃⋅x₃₁ + x₁₃⋅x₂₁⋅x₃₂ - \n",
       "⎢                                                                             \n",
       "⎢                                                                             \n",
       "⎢                                                                             \n",
       "⎢                                                        ⎛    ⎛      x₁₂⋅x₃₁⎞ \n",
       "⎢                                                        ⎜x₂₁⋅⎜x₃₂ - ───────⎟ \n",
       "⎢                    ⎛      x₁₃⋅x₂₁⎞                     ⎜    ⎝        x₁₁  ⎠ \n",
       "⎢                    ⎜x₂₃ - ───────⎟⋅(x₁₁⋅x₂₂ - x₁₂⋅x₂₁)⋅⎜─────────────────── \n",
       "⎢                    ⎝        x₁₁  ⎠                     ⎜    ⎛      x₁₂⋅x₂₁⎞ \n",
       "⎢                                                        ⎜x₁₁⋅⎜x₂₂ - ───────⎟ \n",
       "⎢                                                        ⎝    ⎝        x₁₁  ⎠ \n",
       "⎢- ───────────────────────────────────────────────────────────────────────────\n",
       "⎢  ⎛      x₁₂⋅x₂₁⎞                                                            \n",
       "⎢  ⎜x₂₂ - ───────⎟⋅(x₁₁⋅x₂₂⋅x₃₃ - x₁₁⋅x₂₃⋅x₃₂ - x₁₂⋅x₂₁⋅x₃₃ + x₁₂⋅x₂₃⋅x₃₁ + x₁\n",
       "⎢  ⎝        x₁₁  ⎠                                                            \n",
       "⎢                                                                             \n",
       "⎢                                                                             \n",
       "⎢                                                          ⎛    ⎛      x₁₂⋅x₃₁\n",
       "⎢                                                          ⎜x₂₁⋅⎜x₃₂ - ───────\n",
       "⎢                                                          ⎜    ⎝        x₁₁  \n",
       "⎢                                      (x₁₁⋅x₂₂ - x₁₂⋅x₂₁)⋅⎜──────────────────\n",
       "⎢                                                          ⎜    ⎛      x₁₂⋅x₂₁\n",
       "⎢                                                          ⎜x₁₁⋅⎜x₂₂ - ───────\n",
       "⎢                                                          ⎝    ⎝        x₁₁  \n",
       "⎢                     ────────────────────────────────────────────────────────\n",
       "⎢                     x₁₁⋅x₂₂⋅x₃₃ - x₁₁⋅x₂₃⋅x₃₂ - x₁₂⋅x₂₁⋅x₃₃ + x₁₂⋅x₂₃⋅x₃₁ + \n",
       "⎢                                                                             \n",
       "⎣                                                                             \n",
       "\n",
       "₁⎞      ⎞                                                                     \n",
       "─⎟      ⎟                                                                     \n",
       " ⎠   x₃₁⎟                                                        ⎛      x₁₂⋅x₃\n",
       "── - ───⎟                                                        ⎜x₃₂ - ──────\n",
       "₁⎞   x₁₁⎟                                                        ⎝        x₁₁ \n",
       "─⎟      ⎟                                                                     \n",
       " ⎠      ⎠      1          x₁₂⋅x₂₁                                             \n",
       "─────────── + ─── + ────────────────────        ──────────────────────────────\n",
       "x₁₃⋅x₂₂⋅x₃₁   x₁₁      2 ⎛      x₁₂⋅x₂₁⎞        ⎛      x₁₂⋅x₂₁⎞               \n",
       "                    x₁₁ ⋅⎜x₂₂ - ───────⎟        ⎜x₂₂ - ───────⎟⋅(x₁₁⋅x₂₂⋅x₃₃ -\n",
       "                         ⎝        x₁₁  ⎠        ⎝        x₁₁  ⎠               \n",
       "                                                                              \n",
       "     ⎞                                                                        \n",
       "     ⎟                                                                        \n",
       "  x₃₁⎟                                                                        \n",
       "- ───⎟                                                                        \n",
       "  x₁₁⎟                                                                        \n",
       "     ⎟                                                                        \n",
       "     ⎠                             x₂₁                  1                     \n",
       "──────────────────────── - ───────────────────    ───────────── + ────────────\n",
       "                               ⎛      x₁₂⋅x₂₁⎞          x₁₂⋅x₂₁               \n",
       "₃⋅x₂₁⋅x₃₂ - x₁₃⋅x₂₂⋅x₃₁)   x₁₁⋅⎜x₂₂ - ───────⎟    x₂₂ - ───────   ⎛      x₁₂⋅x\n",
       "                               ⎝        x₁₁  ⎠            x₁₁     ⎜x₂₂ - ─────\n",
       "                                                                  ⎝        x₁₁\n",
       "                                                                              \n",
       "⎞      ⎞                                                                      \n",
       "⎟      ⎟                                                                      \n",
       "⎠   x₃₁⎟                                                                      \n",
       "─ - ───⎟                                                                      \n",
       "⎞   x₁₁⎟                                                                      \n",
       "⎟      ⎟                                                                      \n",
       "⎠      ⎠                                                                      \n",
       "─────────────────────────                                  ───────────────────\n",
       "x₁₃⋅x₂₁⋅x₃₂ - x₁₃⋅x₂₂⋅x₃₁                                  ⎛      x₁₂⋅x₂₁⎞    \n",
       "                                                           ⎜x₂₂ - ───────⎟⋅(x₁\n",
       "                                                           ⎝        x₁₁  ⎠    \n",
       "\n",
       "                       ⎛      ⎛      x₁₃⋅x₂₁⎞      ⎞                          \n",
       "                       ⎜  x₁₂⋅⎜x₂₃ - ───────⎟      ⎟                          \n",
       "₁⎞                     ⎜      ⎝        x₁₁  ⎠   x₁₃⎟                          \n",
       "─⎟⋅(x₁₁⋅x₂₂ - x₁₂⋅x₂₁)⋅⎜- ─────────────────── + ───⎟                          \n",
       " ⎠                     ⎜      ⎛      x₁₂⋅x₂₁⎞   x₁₁⎟                          \n",
       "                       ⎜  x₁₁⋅⎜x₂₂ - ───────⎟      ⎟                          \n",
       "                       ⎝      ⎝        x₁₁  ⎠      ⎠                          \n",
       "───────────────────────────────────────────────────────────────────── - ──────\n",
       "                                                                            ⎛ \n",
       " x₁₁⋅x₂₃⋅x₃₂ - x₁₂⋅x₂₁⋅x₃₃ + x₁₂⋅x₂₃⋅x₃₁ + x₁₃⋅x₂₁⋅x₃₂ - x₁₃⋅x₂₂⋅x₃₁)   x₁₁⋅⎜x\n",
       "                                                                            ⎝ \n",
       "                                                                              \n",
       "                                                                              \n",
       "                                                                              \n",
       "                                                                              \n",
       "                                                                              \n",
       "            ⎛      x₁₃⋅x₂₁⎞ ⎛      x₁₂⋅x₃₁⎞                                   \n",
       "            ⎜x₂₃ - ───────⎟⋅⎜x₃₂ - ───────⎟⋅(x₁₁⋅x₂₂ - x₁₂⋅x₂₁)               \n",
       "            ⎝        x₁₁  ⎠ ⎝        x₁₁  ⎠                                   \n",
       "──────────────────────────────────────────────────────────────────────────────\n",
       "   2                                                                          \n",
       "₂₁⎞                                                                           \n",
       "──⎟ ⋅(x₁₁⋅x₂₂⋅x₃₃ - x₁₁⋅x₂₃⋅x₃₂ - x₁₂⋅x₂₁⋅x₃₃ + x₁₂⋅x₂₃⋅x₃₁ + x₁₃⋅x₂₁⋅x₃₂ - x₁\n",
       "  ⎠                                                                           \n",
       "                                                                              \n",
       "                                                                              \n",
       "                                                                              \n",
       "                                                                              \n",
       "                                                                              \n",
       "             ⎛      x₁₂⋅x₃₁⎞                                                  \n",
       "            -⎜x₃₂ - ───────⎟⋅(x₁₁⋅x₂₂ - x₁₂⋅x₂₁)                              \n",
       "             ⎝        x₁₁  ⎠                                                  \n",
       "──────────────────────────────────────────────────────────────────────────────\n",
       "                                                                              \n",
       "₁⋅x₂₂⋅x₃₃ - x₁₁⋅x₂₃⋅x₃₂ - x₁₂⋅x₂₁⋅x₃₃ + x₁₂⋅x₂₃⋅x₃₁ + x₁₃⋅x₂₁⋅x₃₂ - x₁₃⋅x₂₂⋅x₃\n",
       "                                                                              \n",
       "\n",
       "                                                            ⎛      ⎛      x₁₃⋅\n",
       "                                                            ⎜  x₁₂⋅⎜x₂₃ - ────\n",
       "                                                            ⎜      ⎝        x₁\n",
       "                                       -(x₁₁⋅x₂₂ - x₁₂⋅x₂₁)⋅⎜- ───────────────\n",
       "                                                            ⎜      ⎛      x₁₂⋅\n",
       "                                                            ⎜  x₁₁⋅⎜x₂₂ - ────\n",
       "  x₁₂                                                       ⎝      ⎝        x₁\n",
       "─────────────           ──────────────────────────────────────────────────────\n",
       "     x₁₂⋅x₂₁⎞           x₁₁⋅x₂₂⋅x₃₃ - x₁₁⋅x₂₃⋅x₃₂ - x₁₂⋅x₂₁⋅x₃₃ + x₁₂⋅x₂₃⋅x₃₁ \n",
       "₂₂ - ───────⎟                                                                 \n",
       "       x₁₁  ⎠                                                                 \n",
       "                                                                              \n",
       "                                                                              \n",
       "                                                                              \n",
       "                                                                              \n",
       "                                                                              \n",
       "                                               ⎛      x₁₃⋅x₂₁⎞                \n",
       "                                              -⎜x₂₃ - ───────⎟⋅(x₁₁⋅x₂₂ - x₁₂⋅\n",
       "                                               ⎝        x₁₁  ⎠                \n",
       "──────────     ───────────────────────────────────────────────────────────────\n",
       "               ⎛      x₁₂⋅x₂₁⎞                                                \n",
       "               ⎜x₂₂ - ───────⎟⋅(x₁₁⋅x₂₂⋅x₃₃ - x₁₁⋅x₂₃⋅x₃₂ - x₁₂⋅x₂₁⋅x₃₃ + x₁₂⋅\n",
       "₃⋅x₂₂⋅x₃₁)     ⎝        x₁₁  ⎠                                                \n",
       "                                                                              \n",
       "                                                                              \n",
       "                                                                              \n",
       "                                                                              \n",
       "                                                                              \n",
       "                                                                              \n",
       "                                                                              \n",
       "                                                                              \n",
       "                                                        x₁₁⋅x₂₂ - x₁₂⋅x₂₁     \n",
       "──                      ──────────────────────────────────────────────────────\n",
       "                        x₁₁⋅x₂₂⋅x₃₃ - x₁₁⋅x₂₃⋅x₃₂ - x₁₂⋅x₂₁⋅x₃₃ + x₁₂⋅x₂₃⋅x₃₁ \n",
       "₁)                                                                            \n",
       "                                                                              \n",
       "\n",
       "x₂₁⎞      ⎞                         ⎤\n",
       "───⎟      ⎟                         ⎥\n",
       "₁  ⎠   x₁₃⎟                         ⎥\n",
       "──── + ───⎟                         ⎥\n",
       "x₂₁⎞   x₁₁⎟                         ⎥\n",
       "───⎟      ⎟                         ⎥\n",
       "₁  ⎠      ⎠                         ⎥\n",
       "───────────────────────────         ⎥\n",
       "+ x₁₃⋅x₂₁⋅x₃₂ - x₁₃⋅x₂₂⋅x₃₁         ⎥\n",
       "                                    ⎥\n",
       "                                    ⎥\n",
       "                                    ⎥\n",
       "                                    ⎥\n",
       "                                    ⎥\n",
       "                                    ⎥\n",
       "                                    ⎥\n",
       "                                    ⎥\n",
       "x₂₁)                                ⎥\n",
       "                                    ⎥\n",
       "────────────────────────────────────⎥\n",
       "                                    ⎥\n",
       "x₂₃⋅x₃₁ + x₁₃⋅x₂₁⋅x₃₂ - x₁₃⋅x₂₂⋅x₃₁)⎥\n",
       "                                    ⎥\n",
       "                                    ⎥\n",
       "                                    ⎥\n",
       "                                    ⎥\n",
       "                                    ⎥\n",
       "                                    ⎥\n",
       "                                    ⎥\n",
       "                                    ⎥\n",
       "                                    ⎥\n",
       "                                    ⎥\n",
       "───────────────────────────         ⎥\n",
       "+ x₁₃⋅x₂₁⋅x₃₂ - x₁₃⋅x₂₂⋅x₃₁         ⎥\n",
       "                                    ⎥\n",
       "                                    ⎦"
      ]
     },
     "execution_count": 42,
     "metadata": {},
     "output_type": "execute_result"
    }
   ],
   "source": [
    "x_11,x_12,x_13 = sym.var('x_11 x_12 x_13')\n",
    "x_21,x_22,x_23 = sym.var('x_21 x_22 x_23')\n",
    "x_31,x_32,x_33 = sym.var('x_31 x_32 x_33')\n",
    "M = sym.Matrix([[x_11,x_12,x_13],[x_21,x_22,x_23],[x_31,x_32,x_33]])\n",
    "invM=M.inv()\n",
    "invM"
   ]
  },
  {
   "cell_type": "code",
   "execution_count": 43,
   "metadata": {
    "collapsed": false
   },
   "outputs": [
    {
     "data": {
      "image/png": "[encoded data removed]",
      "text/latex": [
       "$$\\left[\\begin{matrix}25 & 15 & -5\\\\15 & 18 & 0\\\\-5 & 0 & 11\\end{matrix}\\right]$$"
      ],
      "text/plain": [
       "⎡25  15  -5⎤\n",
       "⎢          ⎥\n",
       "⎢15  18  0 ⎥\n",
       "⎢          ⎥\n",
       "⎣-5  0   11⎦"
      ]
     },
     "execution_count": 43,
     "metadata": {},
     "output_type": "execute_result"
    }
   ],
   "source": [
    "M = sym.Matrix([[25, 15, -5], [15, 18, 0],[-5, 0, 11]])\n",
    "M"
   ]
  },
  {
   "cell_type": "code",
   "execution_count": 44,
   "metadata": {
    "collapsed": false
   },
   "outputs": [
    {
     "data": {
      "image/png": "[encoded data removed]",
      "text/latex": [
       "$$\\left[\\begin{matrix}\\frac{22}{225} & - \\frac{11}{135} & \\frac{2}{45}\\\\- \\frac{11}{135} & \\frac{10}{81} & - \\frac{1}{27}\\\\\\frac{2}{45} & - \\frac{1}{27} & \\frac{1}{9}\\end{matrix}\\right]$$"
      ],
      "text/plain": [
       "⎡ 22   -11         ⎤\n",
       "⎢───   ────   2/45 ⎥\n",
       "⎢225   135         ⎥\n",
       "⎢                  ⎥\n",
       "⎢-11    10         ⎥\n",
       "⎢────   ──    -1/27⎥\n",
       "⎢135    81         ⎥\n",
       "⎢                  ⎥\n",
       "⎣2/45  -1/27   1/9 ⎦"
      ]
     },
     "execution_count": 44,
     "metadata": {},
     "output_type": "execute_result"
    }
   ],
   "source": [
    "invM=M.inv()\n",
    "invM"
   ]
  },
  {
   "cell_type": "code",
   "execution_count": 45,
   "metadata": {
    "collapsed": false
   },
   "outputs": [
    {
     "data": {
      "image/png": "[encoded data removed]",
      "text/latex": [
       "$$\\left [ 1, \\quad 0, \\quad 0, \\quad 0, \\quad 1, \\quad 0, \\quad 0, \\quad 0, \\quad 1\\right ]$$"
      ],
      "text/plain": [
       "[1, 0, 0, 0, 1, 0, 0, 0, 1]"
      ]
     },
     "execution_count": 45,
     "metadata": {},
     "output_type": "execute_result"
    }
   ],
   "source": [
    "M.dot(invM)"
   ]
  },
  {
   "cell_type": "markdown",
   "metadata": {},
   "source": [
    "定义方程\n",
    "$$2x+3y=13\\\\x+y=5$$\n",
    "矩阵书写形式：\n",
    "$$A\\cdot x = b$$\n",
    "求解可得：\n",
    "$$x=A^{-1}\\cdot b$$"
   ]
  },
  {
   "cell_type": "code",
   "execution_count": 122,
   "metadata": {
    "collapsed": false
   },
   "outputs": [
    {
     "data": {
      "image/png": "[encoded data removed]",
      "text/latex": [
       "$$\\left [ 2, \\quad 3\\right ]$$"
      ],
      "text/plain": [
       "[2, 3]"
      ]
     },
     "execution_count": 122,
     "metadata": {},
     "output_type": "execute_result"
    }
   ],
   "source": [
    "M=sym.Matrix([[2,3],[1,1]])\n",
    "invM=M.inv()\n",
    "b = sym.Matrix([[13],[5]])\n",
    "invM.dot(b)"
   ]
  },
  {
   "cell_type": "markdown",
   "metadata": {
    "collapsed": true
   },
   "source": [
    "## 矩阵分解"
   ]
  },
  {
   "cell_type": "markdown",
   "metadata": {},
   "source": [
    "## LU分解\n",
    "求解方程：\n",
    "$$A\\cdot x=b$$\n",
    "的过程中需要对其进行初等变换：\n",
    "$$RA=\\begin{bmatrix} 1&\\cdots&0\\\\ \\vdots&\\ddots&\\vdots \\\\r&\\cdots&1 \\end{bmatrix}\\cdot A=U$$\n",
    "$$U=\\begin{bmatrix} u_{11}&\\cdots&u_{nn}\\\\ \\vdots&\\ddots&\\vdots \\\\0&\\cdots&u_{1n} \\end{bmatrix}$$"
   ]
  },
  {
   "cell_type": "markdown",
   "metadata": {},
   "source": [
    "$$A=LU$$"
   ]
  },
  {
   "cell_type": "code",
   "execution_count": 135,
   "metadata": {
    "collapsed": true
   },
   "outputs": [],
   "source": [
    "L, U, T = M.LUdecomposition()"
   ]
  },
  {
   "cell_type": "code",
   "execution_count": 136,
   "metadata": {
    "collapsed": false
   },
   "outputs": [
    {
     "data": {
      "image/png": "[encoded data removed]",
      "text/latex": [
       "$$\\left[\\begin{matrix}1 & 0 & 0\\\\\\frac{3}{5} & 1 & 0\\\\- \\frac{1}{5} & \\frac{1}{3} & 1\\end{matrix}\\right]$$"
      ],
      "text/plain": [
       "⎡ 1     0   0⎤\n",
       "⎢            ⎥\n",
       "⎢3/5    1   0⎥\n",
       "⎢            ⎥\n",
       "⎣-1/5  1/3  1⎦"
      ]
     },
     "execution_count": 136,
     "metadata": {},
     "output_type": "execute_result"
    }
   ],
   "source": [
    "L"
   ]
  },
  {
   "cell_type": "code",
   "execution_count": 137,
   "metadata": {
    "collapsed": false
   },
   "outputs": [
    {
     "data": {
      "image/png": "[encoded data removed]",
      "text/latex": [
       "$$\\left[\\begin{matrix}25 & 15 & -5\\\\0 & 9 & 3\\\\0 & 0 & 9\\end{matrix}\\right]$$"
      ],
      "text/plain": [
       "⎡25  15  -5⎤\n",
       "⎢          ⎥\n",
       "⎢0   9   3 ⎥\n",
       "⎢          ⎥\n",
       "⎣0   0   9 ⎦"
      ]
     },
     "execution_count": 137,
     "metadata": {},
     "output_type": "execute_result"
    }
   ],
   "source": [
    "U"
   ]
  },
  {
   "cell_type": "code",
   "execution_count": 138,
   "metadata": {
    "collapsed": false
   },
   "outputs": [
    {
     "data": {
      "image/png": "[encoded data removed]",
      "text/latex": [
       "$$\\left[\\begin{matrix}25 & 15 & -5\\\\15 & 18 & 0\\\\-5 & 0 & 11\\end{matrix}\\right]$$"
      ],
      "text/plain": [
       "⎡25  15  -5⎤\n",
       "⎢          ⎥\n",
       "⎢15  18  0 ⎥\n",
       "⎢          ⎥\n",
       "⎣-5  0   11⎦"
      ]
     },
     "execution_count": 138,
     "metadata": {},
     "output_type": "execute_result"
    }
   ],
   "source": [
    "L*U"
   ]
  },
  {
   "cell_type": "markdown",
   "metadata": {},
   "source": [
    "### QR分解"
   ]
  },
  {
   "cell_type": "code",
   "execution_count": 132,
   "metadata": {
    "collapsed": false
   },
   "outputs": [
    {
     "data": {
      "image/png": "[encoded data removed]",
      "text/latex": [
       "$$\\left[\\begin{matrix}25 & 15 & -5\\\\15 & 18 & 0\\\\-5 & 0 & 11\\end{matrix}\\right]$$"
      ],
      "text/plain": [
       "⎡25  15  -5⎤\n",
       "⎢          ⎥\n",
       "⎢15  18  0 ⎥\n",
       "⎢          ⎥\n",
       "⎣-5  0   11⎦"
      ]
     },
     "execution_count": 132,
     "metadata": {},
     "output_type": "execute_result"
    }
   ],
   "source": [
    "M = sym.Matrix([[25, 15, -5], [15, 18, 0],[-5, 0, 11]])\n",
    "Q, R = M.QRdecomposition()\n",
    "M"
   ]
  },
  {
   "cell_type": "code",
   "execution_count": 127,
   "metadata": {
    "collapsed": false
   },
   "outputs": [
    {
     "data": {
      "image/png": "[encoded data removed]",
      "text/latex": [
       "$$\\left[\\begin{matrix}\\frac{\\sqrt{35}}{7} & - \\frac{4 \\sqrt{10010}}{1001} & \\frac{3 \\sqrt{286}}{143}\\\\\\frac{3 \\sqrt{35}}{35} & \\frac{81 \\sqrt{10010}}{10010} & - \\frac{5 \\sqrt{286}}{286}\\\\- \\frac{\\sqrt{35}}{35} & \\frac{43 \\sqrt{10010}}{10010} & \\frac{15 \\sqrt{286}}{286}\\end{matrix}\\right]$$"
      ],
      "text/plain": [
       "⎡ √35   -4⋅√10010    3⋅√286 ⎤\n",
       "⎢ ───   ──────────   ────── ⎥\n",
       "⎢  7       1001       143   ⎥\n",
       "⎢                           ⎥\n",
       "⎢3⋅√35  81⋅√10010   -5⋅√286 ⎥\n",
       "⎢─────  ─────────   ────────⎥\n",
       "⎢  35     10010       286   ⎥\n",
       "⎢                           ⎥\n",
       "⎢-√35   43⋅√10010   15⋅√286 ⎥\n",
       "⎢─────  ─────────   ─────── ⎥\n",
       "⎣  35     10010       286   ⎦"
      ]
     },
     "execution_count": 127,
     "metadata": {},
     "output_type": "execute_result"
    }
   ],
   "source": [
    "Q"
   ]
  },
  {
   "cell_type": "code",
   "execution_count": 128,
   "metadata": {
    "collapsed": false
   },
   "outputs": [
    {
     "data": {
      "image/png": "[encoded data removed]",
      "text/latex": [
       "$$\\left[\\begin{matrix}5 \\sqrt{35} & \\frac{129 \\sqrt{35}}{35} & - \\frac{36 \\sqrt{35}}{35}\\\\0 & \\frac{3 \\sqrt{10010}}{35} & \\frac{673 \\sqrt{10010}}{10010}\\\\0 & 0 & \\frac{135 \\sqrt{286}}{286}\\end{matrix}\\right]$$"
      ],
      "text/plain": [
       "⎡       129⋅√35    -36⋅√35  ⎤\n",
       "⎢5⋅√35  ───────    ──────── ⎥\n",
       "⎢          35         35    ⎥\n",
       "⎢                           ⎥\n",
       "⎢       3⋅√10010  673⋅√10010⎥\n",
       "⎢  0    ────────  ──────────⎥\n",
       "⎢          35       10010   ⎥\n",
       "⎢                           ⎥\n",
       "⎢                  135⋅√286 ⎥\n",
       "⎢  0       0       ──────── ⎥\n",
       "⎣                    286    ⎦"
      ]
     },
     "execution_count": 128,
     "metadata": {},
     "output_type": "execute_result"
    }
   ],
   "source": [
    "R"
   ]
  },
  {
   "cell_type": "code",
   "execution_count": 129,
   "metadata": {
    "collapsed": false
   },
   "outputs": [
    {
     "data": {
      "image/png": "[encoded data removed]",
      "text/latex": [
       "$$\\left[\\begin{matrix}25 & 15 & -5\\\\15 & 18 & 0\\\\-5 & 0 & 11\\end{matrix}\\right]$$"
      ],
      "text/plain": [
       "⎡25  15  -5⎤\n",
       "⎢          ⎥\n",
       "⎢15  18  0 ⎥\n",
       "⎢          ⎥\n",
       "⎣-5  0   11⎦"
      ]
     },
     "execution_count": 129,
     "metadata": {},
     "output_type": "execute_result"
    }
   ],
   "source": [
    "Q*R"
   ]
  },
  {
   "cell_type": "markdown",
   "metadata": {},
   "source": [
    "**两种分解可以用于求解线性方程组以及求解矩阵的特征值**"
   ]
  },
  {
   "cell_type": "markdown",
   "metadata": {},
   "source": [
    "## 矩阵特征值分解\n",
    "$$M=E\\Lambda E^{-1}$$"
   ]
  },
  {
   "cell_type": "code",
   "execution_count": 12,
   "metadata": {
    "collapsed": false
   },
   "outputs": [
    {
     "name": "stdout",
     "output_type": "stream",
     "text": [
      "[[25 15 -5]\n",
      " [15 18  0]\n",
      " [-5  0 11]]\n"
     ]
    }
   ],
   "source": [
    "from numpy import linalg as LA\n",
    "M = np.array([[25, 15, -5], [15, 18, 0],[-5, 0, 11]])\n",
    "A, E = LA.eig(M)\n",
    "print(M)"
   ]
  },
  {
   "cell_type": "code",
   "execution_count": 13,
   "metadata": {
    "collapsed": false
   },
   "outputs": [
    {
     "name": "stdout",
     "output_type": "stream",
     "text": [
      "[ 37.48885386   4.4954625   12.01568365]\n"
     ]
    }
   ],
   "source": [
    "print(A)"
   ]
  },
  {
   "cell_type": "code",
   "execution_count": 14,
   "metadata": {
    "collapsed": false
   },
   "outputs": [
    {
     "name": "stdout",
     "output_type": "stream",
     "text": [
      "[[-0.78373593 -0.59500318 -0.17812698]\n",
      " [-0.60321859  0.66089251  0.44648453]\n",
      " [ 0.14793693 -0.45737547  0.87688217]]\n"
     ]
    }
   ],
   "source": [
    "print(E)"
   ]
  },
  {
   "cell_type": "code",
   "execution_count": 17,
   "metadata": {
    "collapsed": false
   },
   "outputs": [
    {
     "data": {
      "text/plain": [
       "array([[  1.00000000e+00,   1.99610479e-16,   1.72809357e-16],\n",
       "       [  1.99610479e-16,   1.00000000e+00,   2.88286088e-16],\n",
       "       [  1.72809357e-16,   2.88286088e-16,   1.00000000e+00]])"
      ]
     },
     "execution_count": 17,
     "metadata": {},
     "output_type": "execute_result"
    }
   ],
   "source": [
    "ET=np.transpose(E)\n",
    "np.dot(ET,E)"
   ]
  },
  {
   "cell_type": "code",
   "execution_count": 21,
   "metadata": {
    "collapsed": false
   },
   "outputs": [
    {
     "name": "stdout",
     "output_type": "stream",
     "text": [
      "[[ 37.48885386   0.           0.        ]\n",
      " [  0.           4.4954625    0.        ]\n",
      " [  0.           0.          12.01568365]]\n"
     ]
    },
    {
     "data": {
      "text/plain": [
       "array([[  2.50000000e+01,   1.50000000e+01,  -5.00000000e+00],\n",
       "       [  1.50000000e+01,   1.80000000e+01,   2.42610070e-15],\n",
       "       [ -5.00000000e+00,   2.52871842e-15,   1.10000000e+01]])"
      ]
     },
     "execution_count": 21,
     "metadata": {},
     "output_type": "execute_result"
    }
   ],
   "source": [
    "Lambda=np.diag(A)\n",
    "print(Lambda)\n",
    "np.dot(E,np.dot(Lambda,ET))"
   ]
  },
  {
   "cell_type": "markdown",
   "metadata": {},
   "source": [
    "## SVD 分解"
   ]
  },
  {
   "cell_type": "markdown",
   "metadata": {
    "collapsed": true
   },
   "source": [
    "$$M = U\\Lambda V$$"
   ]
  },
  {
   "cell_type": "code",
   "execution_count": 18,
   "metadata": {
    "collapsed": false
   },
   "outputs": [
    {
     "data": {
      "text/plain": [
       "array([[-1, -1],\n",
       "       [-2, -1],\n",
       "       [-3, -2],\n",
       "       [ 1,  1],\n",
       "       [ 2,  1],\n",
       "       [ 3,  2]])"
      ]
     },
     "execution_count": 18,
     "metadata": {},
     "output_type": "execute_result"
    }
   ],
   "source": [
    "import numpy as np\n",
    "M = np.array([[-1, -1], [-2, -1], [-3, -2], [1, 1], [2, 1], [3, 2]])\n",
    "M"
   ]
  },
  {
   "cell_type": "code",
   "execution_count": 19,
   "metadata": {
    "collapsed": true
   },
   "outputs": [],
   "source": [
    "U, A, V = np.linalg.svd(M, full_matrices=True)"
   ]
  },
  {
   "cell_type": "code",
   "execution_count": 20,
   "metadata": {
    "collapsed": false
   },
   "outputs": [
    {
     "data": {
      "text/plain": [
       "array([[-0.21956688,  0.53396977, -0.48030985,  0.45219595,  0.02811389,\n",
       "         0.48030985],\n",
       "       [-0.35264795, -0.45713538, -0.30371038, -0.31508521,  0.61879559,\n",
       "         0.30371038],\n",
       "       [-0.57221483,  0.07683439,  0.75680405,  0.17257785,  0.0706181 ,\n",
       "         0.24319595],\n",
       "       [ 0.21956688, -0.53396977,  0.03329824,  0.79735166,  0.1693501 ,\n",
       "        -0.03329824],\n",
       "       [ 0.35264795,  0.45713538,  0.20989771,  0.03007049,  0.7600318 ,\n",
       "        -0.20989771],\n",
       "       [ 0.57221483, -0.07683439,  0.24319595, -0.17257785, -0.0706181 ,\n",
       "         0.75680405]])"
      ]
     },
     "execution_count": 20,
     "metadata": {},
     "output_type": "execute_result"
    }
   ],
   "source": [
    "U"
   ]
  },
  {
   "cell_type": "code",
   "execution_count": 21,
   "metadata": {
    "collapsed": false
   },
   "outputs": [
    {
     "name": "stdout",
     "output_type": "stream",
     "text": [
      "6\n"
     ]
    },
    {
     "data": {
      "text/plain": [
       "array([[ 6.30061232,  0.        ],\n",
       "       [ 0.        ,  0.54980396],\n",
       "       [ 0.        ,  0.        ],\n",
       "       [ 0.        ,  0.        ],\n",
       "       [ 0.        ,  0.        ],\n",
       "       [ 0.        ,  0.        ]])"
      ]
     },
     "execution_count": 21,
     "metadata": {},
     "output_type": "execute_result"
    }
   ],
   "source": [
    "m=np.shape(U)[0]\n",
    "n=np.shape(V)[0]\n",
    "mn = np.min([m, n])\n",
    "Lambda = np.zeros([m, n])\n",
    "print(m)\n",
    "Lambda[:mn,:mn] = np.diag(A)\n",
    "Lambda"
   ]
  },
  {
   "cell_type": "code",
   "execution_count": 22,
   "metadata": {
    "collapsed": false
   },
   "outputs": [
    {
     "data": {
      "text/plain": [
       "array([[ 0.83849224,  0.54491354],\n",
       "       [ 0.54491354, -0.83849224]])"
      ]
     },
     "execution_count": 22,
     "metadata": {},
     "output_type": "execute_result"
    }
   ],
   "source": [
    "V"
   ]
  },
  {
   "cell_type": "code",
   "execution_count": 23,
   "metadata": {
    "collapsed": false
   },
   "outputs": [
    {
     "data": {
      "text/plain": [
       "array([[-1., -1.],\n",
       "       [-2., -1.],\n",
       "       [-3., -2.],\n",
       "       [ 1.,  1.],\n",
       "       [ 2.,  1.],\n",
       "       [ 3.,  2.]])"
      ]
     },
     "execution_count": 23,
     "metadata": {},
     "output_type": "execute_result"
    }
   ],
   "source": [
    "np.dot(U, np.dot(Lambda, V))"
   ]
  },
  {
   "cell_type": "markdown",
   "metadata": {},
   "source": [
    "## PCA method"
   ]
  },
  {
   "cell_type": "code",
   "execution_count": 38,
   "metadata": {
    "collapsed": true
   },
   "outputs": [],
   "source": [
    "from sklearn.decomposition import PCA\n",
    "import numpy as np"
   ]
  },
  {
   "cell_type": "code",
   "execution_count": 39,
   "metadata": {
    "collapsed": false
   },
   "outputs": [
    {
     "data": {
      "text/plain": [
       "PCA(copy=True, iterated_power='auto', n_components=2, random_state=None,\n",
       "  svd_solver='auto', tol=0.0, whiten=False)"
      ]
     },
     "execution_count": 39,
     "metadata": {},
     "output_type": "execute_result"
    }
   ],
   "source": [
    "M = np.array([[-1, -1], [-2, -1], [-3, -2], [1, 1], [2, 1], [3, 2]])\n",
    "pca = PCA(n_components=2)\n",
    "pca.fit(M)"
   ]
  },
  {
   "cell_type": "code",
   "execution_count": 40,
   "metadata": {
    "collapsed": false
   },
   "outputs": [
    {
     "name": "stdout",
     "output_type": "stream",
     "text": [
      "[ 0.99244289  0.00755711]\n"
     ]
    }
   ],
   "source": [
    "print(pca.explained_variance_ratio_)"
   ]
  },
  {
   "cell_type": "code",
   "execution_count": 41,
   "metadata": {
    "collapsed": false
   },
   "outputs": [
    {
     "name": "stdout",
     "output_type": "stream",
     "text": [
      "0.99244289009 0.00755710991019\n"
     ]
    }
   ],
   "source": [
    "U, A, V = np.linalg.svd(M, full_matrices=True)\n",
    "A2=A**2\n",
    "SA2=np.sum(A2)\n",
    "print(A2[0]/SA2,A2[1]/SA2)"
   ]
  },
  {
   "cell_type": "code",
   "execution_count": 4,
   "metadata": {
    "collapsed": true
   },
   "outputs": [],
   "source": [
    "# PCA计算\n",
    "import numpy as np\n",
    "def pca(X):\n",
    "    m,n = X.shape\n",
    "    \n",
    "    # 计算协方差\n",
    "    C = 1.0/m*X.T.dot(X)\n",
    "    \n",
    "    # 特征值赋值给evalues，对应特征向量赋值给evectors\n",
    "    evalues,evectors = np.linalg.eig(C) \n",
    "    \n",
    "    # 特征值从大到小排列，返回数组索引\n",
    "    sorted_indices = np.argsort(-evalues)\n",
    "    \n",
    "    \n",
    "    # 特征向量按特征值大小从左到右排列\n",
    "    sorted_evectors = evectors[:,sorted_indices]\n",
    "    sorted_evalues = evalues[sorted_indices]\n",
    "    \n",
    "    return sorted_evectors,np.diag(sorted_evalues),sorted_evalues"
   ]
  },
  {
   "cell_type": "code",
   "execution_count": 5,
   "metadata": {
    "collapsed": false
   },
   "outputs": [
    {
     "data": {
      "text/plain": [
       "(array([[-0.61962948, -0.78489445],\n",
       "        [-0.78489445,  0.61962948]]), array([[ 30.24516497,   0.        ],\n",
       "        [  0.        ,   0.08816836]]), array([ 30.24516497,   0.08816836]))"
      ]
     },
     "execution_count": 5,
     "metadata": {},
     "output_type": "execute_result"
    }
   ],
   "source": [
    "pca(np.array([[1,2],[3,4],[5,6]]))"
   ]
  },
  {
   "cell_type": "code",
   "execution_count": null,
   "metadata": {
    "collapsed": true
   },
   "outputs": [],
   "source": []
  }
 ],
 "metadata": {
  "anaconda-cloud": {},
  "kernelspec": {
   "display_name": "Python 3",
   "language": "python",
   "name": "python3"
  },
  "language_info": {
   "codemirror_mode": {
    "name": "ipython",
    "version": 3
   },
   "file_extension": ".py",
   "mimetype": "text/x-python",
   "name": "python",
   "nbconvert_exporter": "python",
   "pygments_lexer": "ipython3",
   "version": "3.5.1"
  }
 },
 "nbformat": 4,
 "nbformat_minor": 2
}

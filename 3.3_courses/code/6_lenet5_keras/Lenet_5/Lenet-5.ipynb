{
 "cells": [
  {
   "cell_type": "markdown",
   "metadata": {},
   "source": [
    "载入必要的python库"
   ]
  },
  {
   "cell_type": "code",
   "execution_count": 1,
   "metadata": {},
   "outputs": [
    {
     "name": "stderr",
     "output_type": "stream",
     "text": [
      "Using TensorFlow backend.\n"
     ]
    }
   ],
   "source": [
    "import numpy as np\n",
    "from keras.layers import Input,Add,Conv2D,Dense,ZeroPadding2D,Activation,MaxPooling2D,Flatten\n",
    "from keras.models import Model\n",
    "from keras.utils import to_categorical"
   ]
  },
  {
   "cell_type": "markdown",
   "metadata": {},
   "source": [
    "加载数据集。\n",
    "train.csv文件中共有42000个样本，将其分为40000个训练集和2000个验证集。\n",
    "test.csv文件中有42000个样本。"
   ]
  },
  {
   "cell_type": "code",
   "execution_count": 2,
   "metadata": {
    "collapsed": true
   },
   "outputs": [],
   "source": [
    "train=np.loadtxt('data/train.csv',delimiter=',',skiprows=1)\n",
    "data_train=train[:40000]\n",
    "data_val=train[40000:]\n",
    "data_test=np.loadtxt('data/test.csv',delimiter=',',skiprows=1)"
   ]
  },
  {
   "cell_type": "markdown",
   "metadata": {},
   "source": [
    "输出各个集合的形状"
   ]
  },
  {
   "cell_type": "code",
   "execution_count": 3,
   "metadata": {},
   "outputs": [
    {
     "name": "stdout",
     "output_type": "stream",
     "text": [
      "(42000, 785)\n",
      "(40000, 785)\n",
      "(2000, 785)\n",
      "(28000, 784)\n"
     ]
    }
   ],
   "source": [
    "print(train.shape)\n",
    "print(data_train.shape)\n",
    "print(data_val.shape)\n",
    "print(data_test.shape)"
   ]
  },
  {
   "cell_type": "code",
   "execution_count": 4,
   "metadata": {
    "collapsed": true
   },
   "outputs": [],
   "source": [
    "def lenet_5(input_shape=(32,32,1),classes=10):\n",
    "    X_input=Input(input_shape)\n",
    "    X=ZeroPadding2D((1,1))(X_input)\n",
    "    X=Conv2D(6,(5,5),strides=(1,1),padding='valid',name='conv1')(X)\n",
    "    X=Activation('tanh')(X)\n",
    "    X=MaxPooling2D((2,2),strides=(2,2))(X)\n",
    "    X=Conv2D(6,(5,5),strides=(1,1),padding='valid',name='conv2')(X)\n",
    "    X=Activation('tanh')(X)\n",
    "    X=MaxPooling2D((2,2),strides=(2,2))(X)\n",
    "    X=Flatten()(X)\n",
    "    X=Dense(120,activation='tanh',name='fc1')(X)\n",
    "    X=Dense(84,activation='tanh',name='fc2')(X)\n",
    "    X=Dense(10,activation='softmax')(X)\n",
    "    model=Model(inputs=X_input,outputs=X,name='lenet_5')\n",
    "    return model"
   ]
  },
  {
   "cell_type": "code",
   "execution_count": 5,
   "metadata": {
    "collapsed": true
   },
   "outputs": [],
   "source": [
    "model=lenet_5(input_shape=(28,28,1),classes=10)\n",
    "model.compile(optimizer='sgd',loss='categorical_crossentropy',metrics=['accuracy'])"
   ]
  },
  {
   "cell_type": "code",
   "execution_count": 6,
   "metadata": {},
   "outputs": [
    {
     "name": "stdout",
     "output_type": "stream",
     "text": [
      "Epoch 1/10\n",
      "40000/40000 [==============================] - 26s - loss: 0.4579 - acc: 0.8742    \n",
      "Epoch 2/10\n",
      "40000/40000 [==============================] - 26s - loss: 0.1824 - acc: 0.9457    \n",
      "Epoch 3/10\n",
      "40000/40000 [==============================] - 25s - loss: 0.1472 - acc: 0.9556    \n",
      "Epoch 4/10\n",
      "40000/40000 [==============================] - 25s - loss: 0.1257 - acc: 0.9610    \n",
      "Epoch 5/10\n",
      "40000/40000 [==============================] - 25s - loss: 0.1118 - acc: 0.9652    \n",
      "Epoch 6/10\n",
      "40000/40000 [==============================] - 25s - loss: 0.0999 - acc: 0.9696    \n",
      "Epoch 7/10\n",
      "40000/40000 [==============================] - 26s - loss: 0.0919 - acc: 0.9716    \n",
      "Epoch 8/10\n",
      "40000/40000 [==============================] - 26s - loss: 0.0866 - acc: 0.9732    \n",
      "Epoch 9/10\n",
      "40000/40000 [==============================] - 25s - loss: 0.0802 - acc: 0.9748    \n",
      "Epoch 10/10\n",
      "40000/40000 [==============================] - 25s - loss: 0.0796 - acc: 0.9754    \n"
     ]
    },
    {
     "data": {
      "text/plain": [
       "<keras.callbacks.History at 0x23ed4232710>"
      ]
     },
     "execution_count": 6,
     "metadata": {},
     "output_type": "execute_result"
    }
   ],
   "source": [
    "X_train=data_train[:,1:].reshape((data_train.shape[0],28,28,1))\n",
    "Y_train=to_categorical(data_train[:,0])\n",
    "model.fit(X_train,Y_train,epochs=10,batch_size=16)"
   ]
  },
  {
   "cell_type": "code",
   "execution_count": 7,
   "metadata": {},
   "outputs": [
    {
     "name": "stdout",
     "output_type": "stream",
     "text": [
      "1952/2000 [============================>.] - ETA: 0sValidation loss=0.0929558350742\n",
      "Validation accuracy=0.97\n"
     ]
    }
   ],
   "source": [
    "X_val=data_val[:,1:].reshape((data_val.shape[0],28,28,1))\n",
    "Y_val=to_categorical(data_val[:,0])\n",
    "preds=model.evaluate(X_val,Y_val)\n",
    "print(\"Validation loss=\"+str(preds[0]))\n",
    "print(\"Validation accuracy=\"+str(preds[1]))"
   ]
  },
  {
   "cell_type": "code",
   "execution_count": 10,
   "metadata": {},
   "outputs": [
    {
     "name": "stdout",
     "output_type": "stream",
     "text": [
      "[2 0 9 ..., 3 9 2]\n"
     ]
    }
   ],
   "source": [
    "X_test=data_test.reshape((data_test.shape[0],28,28,1))\n",
    "predicted=np.argmax(model.predict(X_test),axis=1)\n",
    "with open('data/submission.csv','w') as f:\n",
    "    f.write('ImageId,Label\\n')\n",
    "    for i in range(len(predicted)):\n",
    "        f.write(str(i+1)+','+str(predicted[i])+'\\n')\n",
    "print(predicted)"
   ]
  },
  {
   "cell_type": "code",
   "execution_count": 9,
   "metadata": {},
   "outputs": [
    {
     "name": "stdout",
     "output_type": "stream",
     "text": [
      "\n"
     ]
    }
   ],
   "source": [
    "print()"
   ]
  }
 ],
 "metadata": {
  "kernelspec": {
   "display_name": "Python 3",
   "language": "python",
   "name": "python3"
  },
  "language_info": {
   "codemirror_mode": {
    "name": "ipython",
    "version": 3
   },
   "file_extension": ".py",
   "mimetype": "text/x-python",
   "name": "python",
   "nbconvert_exporter": "python",
   "pygments_lexer": "ipython3",
   "version": "3.6.1"
  }
 },
 "nbformat": 4,
 "nbformat_minor": 2
}
